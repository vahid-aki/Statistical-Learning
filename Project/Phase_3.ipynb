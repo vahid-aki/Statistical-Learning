{
  "cells": [
    {
      "cell_type": "markdown",
      "metadata": {},
      "source": [
        "<h1 align=\"center\">\n",
        "<img src=\"https://drive.google.com/uc?export=view&id=1_ZkE3dnYg9KykzdZE6lIK2s_q_nbiKk_\" width=\"160\" height=\"160\">\n",
        "</h1>\n",
        "<h1 align=\"center\">Statistical Learning - 255381</h1>\n",
        "<h3 align=\"center\">Dr. Hoda Mohammadzade</h3>\n",
        "<h5 align=\"center\">Sharif University of Technology<br/>Electrical Engineering Department<br/>  Spring 2022</h5>\n",
        "\n",
        "---\n",
        "\n",
        "# Project - Phase_3\n",
        "<h4 align=\"center\">Vahid Pourakbar     400205511</h4>\n"
      ]
    },
    {
      "cell_type": "markdown",
      "metadata": {},
      "source": [
        "---\n",
        "---"
      ]
    },
    {
      "cell_type": "code",
      "execution_count": 35,
      "metadata": {},
      "outputs": [],
      "source": [
        "%reset -f\n",
        "import numpy as np\n",
        "from sklearn import preprocessing\n",
        "from sklearn.decomposition import PCA\n",
        "from sklearn.discriminant_analysis import LinearDiscriminantAnalysis as LDA\n",
        "from sklearn.linear_model import LogisticRegression\n",
        "from sklearn.neighbors import KNeighborsClassifier\n",
        "from sklearn.tree import DecisionTreeClassifier\n",
        "from sklearn.svm import SVC\n",
        "from sklearn.ensemble import RandomForestClassifier as RFC\n",
        "from sklearn.metrics import classification_report, confusion_matrix, accuracy_score\n",
        "from sklearn.cluster import KMeans\n",
        "from sklearn.model_selection import GridSearchCV\n",
        "\n",
        "import sys\n",
        "sys.path.append(r'../')\n",
        "from utils import *\n",
        "# from utils import dataset, max_length, pre_processing_dataset, zero_padding_data, \\\n",
        "#                     classification_report_plot, confusion_matrix_plot\n",
        "import warnings\n",
        "warnings.filterwarnings('ignore')"
      ]
    },
    {
      "cell_type": "code",
      "execution_count": 3,
      "metadata": {},
      "outputs": [],
      "source": [
        "with open(r'..\\Phase_2b\\Phase2b_spec_train.npy', 'rb') as f:\n",
        "    X = np.load(f)\n",
        "    Y = np.load(f)\n",
        "    I = np.load(f)\n",
        "\n",
        "with open(r'..\\Phase_2b\\Phase2b_spec_test.npy', 'rb') as f:\n",
        "    X_test = np.load(f)\n",
        "    Y_test = np.load(f)\n",
        "    I_test = np.load(f)\n",
        "\n",
        "X_train = X.copy()\n",
        "Y_train = Y.copy()\n",
        "I_train = I.copy()"
      ]
    },
    {
      "cell_type": "markdown",
      "metadata": {},
      "source": [
        "## Part A"
      ]
    },
    {
      "cell_type": "code",
      "execution_count": 4,
      "metadata": {},
      "outputs": [],
      "source": [
        "X3_train = []\n",
        "Y3_train = []\n",
        "I3_train = []\n",
        "for i in range(10):\n",
        "    rand_array = np.random.choice(range(200), 5, replace=False)\n",
        "    I3_train.append(rand_array)\n",
        "    X3_train.append(X_train[i*200 + rand_array])\n",
        "    Y3_train.extend(i for _ in range(5))\n",
        "\n",
        "X3_train = np.asarray(X3_train).reshape(50, 4096)\n",
        "Y3_train = np.asarray(Y3_train)\n",
        "I3_train = np.asarray(I3_train).reshape(50)"
      ]
    },
    {
      "cell_type": "code",
      "execution_count": 5,
      "metadata": {},
      "outputs": [],
      "source": [
        "scaler = preprocessing.StandardScaler()\n",
        "X3a_train = scaler.fit_transform(X3_train)\n",
        "X3a_test = scaler.transform(X_test)\n",
        "\n",
        "pca = PCA()\n",
        "X3a_train = pca.fit_transform(X3a_train)\n",
        "X3a_test = pca.transform(X3a_test)\n",
        "\n",
        "models = []\n",
        "models.append(('LogR', LogisticRegression(solver='newton-cg')))\n",
        "models.append(('LDA', LDA()))\n",
        "models.append(('KNN', KNeighborsClassifier()))\n",
        "models.append(('DTC', DecisionTreeClassifier()))\n",
        "models.append(('SVM', SVC()))\n",
        "models.append(('RFC', RFC()))"
      ]
    },
    {
      "cell_type": "code",
      "execution_count": 6,
      "metadata": {},
      "outputs": [
        {
          "name": "stdout",
          "output_type": "stream",
          "text": [
            "model = LogR: train accuracy = 1.0\ttest accuracy = 0.366\n",
            "model = LogR: train accuracy = 0.7\ttest accuracy = 0.088\n",
            "model = LogR: train accuracy = 0.44\ttest accuracy = 0.226\n",
            "model = LogR: train accuracy = 1.0\ttest accuracy = 0.172\n",
            "model = LogR: train accuracy = 0.68\ttest accuracy = 0.226\n",
            "model = LogR: train accuracy = 1.0\ttest accuracy = 0.34\n"
          ]
        }
      ],
      "source": [
        "for name, model in models:\n",
        "    _model = model.fit(X3a_train, Y3_train)\n",
        "    print(f'model = LogR: train accuracy = {accuracy_score(Y3_train, _model.predict(X3a_train))}', end='\\t')\n",
        "    print(f'test accuracy = {accuracy_score(Y_test, _model.predict(X3a_test))}')"
      ]
    },
    {
      "cell_type": "code",
      "execution_count": 7,
      "metadata": {},
      "outputs": [
        {
          "name": "stdout",
          "output_type": "stream",
          "text": [
            "model = LogR: train accuracy = 1.0\ttest accuracy = 0.376\n"
          ]
        }
      ],
      "source": [
        "_model = LogisticRegression(C=10,solver='newton-cg').fit(X3a_train, Y3_train)\n",
        "print(f'model = LogR: train accuracy = {accuracy_score(Y3_train, _model.predict(X3a_train))}', end='\\t')\n",
        "print(f'test accuracy = {accuracy_score(Y_test, _model.predict(X3a_test))}')"
      ]
    },
    {
      "cell_type": "markdown",
      "metadata": {},
      "source": [
        "## Part B"
      ]
    },
    {
      "cell_type": "code",
      "execution_count": 8,
      "metadata": {},
      "outputs": [
        {
          "data": {
            "text/plain": [
              "(50, 4096)"
            ]
          },
          "execution_count": 8,
          "metadata": {},
          "output_type": "execute_result"
        }
      ],
      "source": [
        "kmeans = KMeans(n_clusters=50).fit(X_train)\n",
        "kmeans.cluster_centers_.shape"
      ]
    },
    {
      "cell_type": "markdown",
      "metadata": {},
      "source": [
        "## Part C"
      ]
    },
    {
      "cell_type": "code",
      "execution_count": 9,
      "metadata": {},
      "outputs": [],
      "source": [
        "I_indicator = np.zeros(shape=50, dtype=int)\n",
        "Y_indicator = np.zeros(shape=50, dtype=int)\n",
        "X_indicator = np.zeros(shape=(50, 4096))\n",
        "for i in range(50):\n",
        "    dist_min = 10000\n",
        "    for j, xx in enumerate(X_train[kmeans.labels_==i]):\n",
        "        dist = np.linalg.norm(kmeans.cluster_centers_[i]-xx)\n",
        "        if dist < dist_min:\n",
        "            dist_min = dist\n",
        "            X_indicator[i] = xx.copy()\n",
        "            Y_indicator[i] = Y_train[kmeans.labels_==i][j]\n",
        "            I_indicator[i] = I_train[kmeans.labels_==i][j]\n"
      ]
    },
    {
      "cell_type": "code",
      "execution_count": 10,
      "metadata": {},
      "outputs": [
        {
          "data": {
            "text/plain": [
              "array([7, 9, 5, 8, 2, 6, 1, 6, 7, 9, 7, 7, 7, 7, 5, 9, 7, 6, 5, 7, 6, 9,\n",
              "       7, 0, 8, 0, 1, 2, 1, 3, 7, 2, 0, 7, 9, 4, 2, 1, 8, 0, 9, 7, 3, 5,\n",
              "       1, 3, 9, 7, 9, 8])"
            ]
          },
          "execution_count": 10,
          "metadata": {},
          "output_type": "execute_result"
        }
      ],
      "source": [
        "Y_indicator"
      ]
    },
    {
      "cell_type": "markdown",
      "metadata": {},
      "source": [
        "## Part D"
      ]
    },
    {
      "cell_type": "code",
      "execution_count": 11,
      "metadata": {},
      "outputs": [
        {
          "name": "stdout",
          "output_type": "stream",
          "text": [
            "model = LogR: train accuracy = 1.0\ttest accuracy = 0.438\n",
            "model = LDA: train accuracy = 0.74\ttest accuracy = 0.366\n",
            "model = KNN: train accuracy = 0.44\ttest accuracy = 0.264\n",
            "model = DTC: train accuracy = 1.0\ttest accuracy = 0.29\n",
            "model = SVM: train accuracy = 0.36\ttest accuracy = 0.126\n",
            "model = RFC: train accuracy = 1.0\ttest accuracy = 0.35\n"
          ]
        }
      ],
      "source": [
        "for name, model in models:\n",
        "    _model = model.fit(X_indicator, Y_indicator)\n",
        "    print(f'model = {name}: train accuracy = {accuracy_score(Y_indicator, _model.predict(X_indicator))}', end='\\t')\n",
        "    print(f'test accuracy = {accuracy_score(Y_test, _model.predict(X_test))}')"
      ]
    },
    {
      "cell_type": "code",
      "execution_count": 15,
      "metadata": {},
      "outputs": [
        {
          "name": "stdout",
          "output_type": "stream",
          "text": [
            "model = LogR: train accuracy = 1.0\ttest accuracy = 0.442\n"
          ]
        }
      ],
      "source": [
        "_model = LogisticRegression(C=10,solver='newton-cg').fit(X_indicator, Y_indicator)\n",
        "print(f'model = LogR: train accuracy = {accuracy_score(Y_indicator, _model.predict(X_indicator))}', end='\\t')\n",
        "print(f'test accuracy = {accuracy_score(Y_test, _model.predict(X_test))}')"
      ]
    },
    {
      "cell_type": "markdown",
      "metadata": {},
      "source": [
        "## Part E"
      ]
    },
    {
      "cell_type": "code",
      "execution_count": 16,
      "metadata": {},
      "outputs": [],
      "source": [
        "Y3e_train = Y_indicator[kmeans.labels_]"
      ]
    },
    {
      "cell_type": "markdown",
      "metadata": {},
      "source": [
        "## Part F"
      ]
    },
    {
      "cell_type": "code",
      "execution_count": 18,
      "metadata": {},
      "outputs": [
        {
          "name": "stdout",
          "output_type": "stream",
          "text": [
            "model = LogR: train accuracy = 1.0\ttest accuracy = 0.286\n",
            "model = LDA: train accuracy = 1.0\ttest accuracy = 0.086\n",
            "model = KNN: train accuracy = 0.935\ttest accuracy = 0.3\n",
            "model = DTC: train accuracy = 1.0\ttest accuracy = 0.272\n",
            "model = SVM: train accuracy = 0.832\ttest accuracy = 0.316\n",
            "model = RFC: train accuracy = 1.0\ttest accuracy = 0.308\n"
          ]
        }
      ],
      "source": [
        "for name, model in models:\n",
        "    _model = model.fit(X_train, Y3e_train)\n",
        "    print(f'model = {name}: train accuracy = {accuracy_score(Y3e_train, _model.predict(X_train))}', end='\\t')\n",
        "    print(f'test accuracy = {accuracy_score(Y_test, _model.predict(X_test))}')"
      ]
    },
    {
      "cell_type": "code",
      "execution_count": 19,
      "metadata": {},
      "outputs": [
        {
          "name": "stdout",
          "output_type": "stream",
          "text": [
            "Start GridSearch to optimize hyperparameters of SVM, which already performed well with defualt parameters\n",
            "\n",
            "The best parameters for SVM accuracy: {'C': 10, 'gamma': 'auto'}, with score = 0.295\n"
          ]
        }
      ],
      "source": [
        "# performing SVM with grid search\n",
        "print('Start GridSearch to optimize hyperparameters of SVM, which already performed well with defualt parameters\\n')\n",
        "parameters = {'C':(10,0.25,0.5),'gamma': ('auto', 0.01, 1)} # 'linear', 'sigmoid' \n",
        "clf_GS = GridSearchCV(estimator=SVC(kernel='rbf'), param_grid=parameters, scoring='accuracy', cv=5)\n",
        "clf_GS.fit(X_train,Y3e_train)\n",
        "print(f'The best parameters for SVM accuracy: {clf_GS.best_params_}, with score = {clf_GS.best_score_}')"
      ]
    },
    {
      "cell_type": "code",
      "execution_count": 23,
      "metadata": {},
      "outputs": [
        {
          "name": "stdout",
          "output_type": "stream",
          "text": [
            "model = SVM: train accuracy = 1.0\ttest accuracy = 0.1\n"
          ]
        }
      ],
      "source": [
        "_model = SVC(kernel='rbf', C=10, gamma='auto').fit(X_train, Y3e_train)\n",
        "print(f'model = SVM: train accuracy = {accuracy_score(Y3e_train, _model.predict(X_train))}', end='\\t')\n",
        "print(f'test accuracy = {accuracy_score(Y_test, _model.predict(X_test))}')"
      ]
    },
    {
      "cell_type": "code",
      "execution_count": 33,
      "metadata": {},
      "outputs": [
        {
          "name": "stdout",
          "output_type": "stream",
          "text": [
            "model = SVM: train accuracy = 0.832\ttest accuracy = 0.316\n"
          ]
        }
      ],
      "source": [
        "_model = SVC(kernel='rbf').fit(X_train, Y3e_train)\n",
        "print(f'model = SVM: train accuracy = {accuracy_score(Y3e_train, _model.predict(X_train))}', end='\\t')\n",
        "print(f'test accuracy = {accuracy_score(Y_test, _model.predict(X_test))}')"
      ]
    },
    {
      "cell_type": "code",
      "execution_count": 25,
      "metadata": {},
      "outputs": [
        {
          "name": "stdout",
          "output_type": "stream",
          "text": [
            "Start GridSearch to optimize hyperparameters of LOGR, which already performed well with defualt parameters\n",
            "\n",
            "The best parameters for LogR accuracy: {'C': 0.25, 'solver': 'lbfgs'}, with score = 0.641\n"
          ]
        }
      ],
      "source": [
        "# performing LogR with grid search\n",
        "print('Start GridSearch to optimize hyperparameters of LOGR, which already performed well with defualt parameters\\n')\n",
        "parameters = {'C':(10,0.25,0.5),'solver': ('newton-cg', 'lbfgs')} #'sag', 'liblinear', 'saga'\n",
        "clf_GS = GridSearchCV(estimator=LogisticRegression(), param_grid=parameters, scoring='accuracy', cv=5)\n",
        "clf_GS.fit(X_train,Y3e_train)\n",
        "print(f'The best parameters for LogR accuracy: {clf_GS.best_params_}, with score = {clf_GS.best_score_}')"
      ]
    },
    {
      "cell_type": "code",
      "execution_count": 27,
      "metadata": {},
      "outputs": [
        {
          "name": "stdout",
          "output_type": "stream",
          "text": [
            "model = LogR: train accuracy = 0.7845\ttest accuracy = 0.288\n"
          ]
        }
      ],
      "source": [
        "_model = LogisticRegression(C=0.25,solver='lbfgs').fit(X_train, Y3e_train)\n",
        "print(f'model = LogR: train accuracy = {accuracy_score(Y3e_train, _model.predict(X_train))}', end='\\t')\n",
        "print(f'test accuracy = {accuracy_score(Y_test, _model.predict(X_test))}')"
      ]
    },
    {
      "cell_type": "code",
      "execution_count": 34,
      "metadata": {},
      "outputs": [
        {
          "data": {
            "image/png": "[encoded data removed]",
            "text/plain": [
              "<Figure size 720x360 with 2 Axes>"
            ]
          },
          "metadata": {
            "needs_background": "light"
          },
          "output_type": "display_data"
        }
      ],
      "source": [
        "cm = [confusion_matrix(Y3e_train, _model.predict(X_train))]\n",
        "cm.append(confusion_matrix(Y_test, _model.predict(X_test)))\n",
        "confusion_matrix_plot(cm)"
      ]
    },
    {
      "cell_type": "code",
      "execution_count": null,
      "metadata": {},
      "outputs": [
        {
          "data": {
            "image/png": "[encoded data removed]",
            "text/plain": [
              "<Figure size 432x432 with 2 Axes>"
            ]
          },
          "metadata": {
            "needs_background": "light"
          },
          "output_type": "display_data"
        },
        {
          "name": "stdout",
          "output_type": "stream",
          "text": [
            "    accuracy                           0.31       500\n",
            "   macro avg       0.35      0.31      0.30       500\n",
            "weighted avg       0.35      0.31      0.30       500\n",
            "\n"
          ]
        }
      ],
      "source": [
        "classification_report_plot(classification_report(Y_test, _model.predict(X_test)))"
      ]
    }
  ],
  "metadata": {
    "colab": {
      "collapsed_sections": [],
      "name": "Python_HW2.ipynb",
      "provenance": []
    },
    "interpreter": {
      "hash": "8546e49cd07bc51e379dea706c5a9d4cd7a31d6ad972a644c83d3722f7520f6b"
    },
    "kernelspec": {
      "display_name": "Python 3.9.10 64-bit",
      "language": "python",
      "name": "python3"
    },
    "language_info": {
      "codemirror_mode": {
        "name": "ipython",
        "version": 3
      },
      "file_extension": ".py",
      "mimetype": "text/x-python",
      "name": "python",
      "nbconvert_exporter": "python",
      "pygments_lexer": "ipython3",
      "version": "3.9.10"
    },
    "orig_nbformat": 4
  },
  "nbformat": 4,
  "nbformat_minor": 0
}
