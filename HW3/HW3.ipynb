{
  "cells": [
    {
      "cell_type": "markdown",
      "metadata": {},
      "source": [
        "<h1 align=\"center\">\n",
        "<img src=\"https://drive.google.com/uc?export=view&id=1_ZkE3dnYg9KykzdZE6lIK2s_q_nbiKk_\" width=\"160\" height=\"160\">\n",
        "</h1>\n",
        "<h1 align=\"center\">Statistical Learning - 255381</h1>\n",
        "<h3 align=\"center\">Dr. Hoda Mohammadzade</h3>\n",
        "<h5 align=\"center\">Sharif University of Technology<br/>Electrical Engineering Department<br/>  Spring 2022</h5>\n",
        "\n",
        "---\n",
        "\n",
        "# Problem Set 03\n",
        "<h4 align=\"center\">Vahid Pourakbar     400205511</h4>\n"
      ]
    },
    {
      "cell_type": "markdown",
      "metadata": {},
      "source": [
        "# Question 7"
      ]
    },
    {
      "cell_type": "code",
      "execution_count": 1,
      "metadata": {},
      "outputs": [],
      "source": [
        "import numpy as np\n",
        "import pandas as pd\n",
        "from sklearn.linear_model import LinearRegression\n",
        "from sklearn.model_selection import train_test_split\n",
        "from sklearn import metrics\n",
        "import matplotlib.pyplot as plt\n"
      ]
    },
    {
      "cell_type": "code",
      "execution_count": 2,
      "metadata": {},
      "outputs": [
        {
          "data": {
            "text/html": [
              "<div>\n",
              "<style scoped>\n",
              "    .dataframe tbody tr th:only-of-type {\n",
              "        vertical-align: middle;\n",
              "    }\n",
              "\n",
              "    .dataframe tbody tr th {\n",
              "        vertical-align: top;\n",
              "    }\n",
              "\n",
              "    .dataframe thead th {\n",
              "        text-align: right;\n",
              "    }\n",
              "</style>\n",
              "<table border=\"1\" class=\"dataframe\">\n",
              "  <thead>\n",
              "    <tr style=\"text-align: right;\">\n",
              "      <th></th>\n",
              "      <th>ozone</th>\n",
              "      <th>vh</th>\n",
              "      <th>wind</th>\n",
              "      <th>humidity</th>\n",
              "      <th>temp</th>\n",
              "      <th>ibh</th>\n",
              "      <th>dpg</th>\n",
              "      <th>ibt</th>\n",
              "      <th>vis</th>\n",
              "      <th>doy</th>\n",
              "    </tr>\n",
              "  </thead>\n",
              "  <tbody>\n",
              "    <tr>\n",
              "      <th>0</th>\n",
              "      <td>3</td>\n",
              "      <td>5710</td>\n",
              "      <td>4</td>\n",
              "      <td>28</td>\n",
              "      <td>40</td>\n",
              "      <td>2693</td>\n",
              "      <td>-25</td>\n",
              "      <td>87</td>\n",
              "      <td>250</td>\n",
              "      <td>3</td>\n",
              "    </tr>\n",
              "    <tr>\n",
              "      <th>1</th>\n",
              "      <td>5</td>\n",
              "      <td>5700</td>\n",
              "      <td>3</td>\n",
              "      <td>37</td>\n",
              "      <td>45</td>\n",
              "      <td>590</td>\n",
              "      <td>-24</td>\n",
              "      <td>128</td>\n",
              "      <td>100</td>\n",
              "      <td>4</td>\n",
              "    </tr>\n",
              "    <tr>\n",
              "      <th>2</th>\n",
              "      <td>5</td>\n",
              "      <td>5760</td>\n",
              "      <td>3</td>\n",
              "      <td>51</td>\n",
              "      <td>54</td>\n",
              "      <td>1450</td>\n",
              "      <td>25</td>\n",
              "      <td>139</td>\n",
              "      <td>60</td>\n",
              "      <td>5</td>\n",
              "    </tr>\n",
              "    <tr>\n",
              "      <th>3</th>\n",
              "      <td>6</td>\n",
              "      <td>5720</td>\n",
              "      <td>4</td>\n",
              "      <td>69</td>\n",
              "      <td>35</td>\n",
              "      <td>1568</td>\n",
              "      <td>15</td>\n",
              "      <td>121</td>\n",
              "      <td>60</td>\n",
              "      <td>6</td>\n",
              "    </tr>\n",
              "    <tr>\n",
              "      <th>4</th>\n",
              "      <td>4</td>\n",
              "      <td>5790</td>\n",
              "      <td>6</td>\n",
              "      <td>19</td>\n",
              "      <td>45</td>\n",
              "      <td>2631</td>\n",
              "      <td>-33</td>\n",
              "      <td>123</td>\n",
              "      <td>100</td>\n",
              "      <td>7</td>\n",
              "    </tr>\n",
              "  </tbody>\n",
              "</table>\n",
              "</div>"
            ],
            "text/plain": [
              "   ozone    vh  wind  humidity  temp   ibh  dpg  ibt  vis  doy\n",
              "0      3  5710     4        28    40  2693  -25   87  250    3\n",
              "1      5  5700     3        37    45   590  -24  128  100    4\n",
              "2      5  5760     3        51    54  1450   25  139   60    5\n",
              "3      6  5720     4        69    35  1568   15  121   60    6\n",
              "4      4  5790     6        19    45  2631  -33  123  100    7"
            ]
          },
          "execution_count": 2,
          "metadata": {},
          "output_type": "execute_result"
        }
      ],
      "source": [
        "# load the Ozone dataset\n",
        "Ozone_dataset = pd.read_csv('LAozone.data')\n",
        "Ozone_dataset.head()"
      ]
    },
    {
      "cell_type": "markdown",
      "metadata": {},
      "source": [
        "## Part A"
      ]
    },
    {
      "cell_type": "code",
      "execution_count": 3,
      "metadata": {},
      "outputs": [
        {
          "name": "stdout",
          "output_type": "stream",
          "text": [
            "Coefficients:\n",
            " intercept:  21.422340959501696 \n",
            " slope: [-5.43599071e-03 -1.37215300e-01  6.09675569e-02  2.57959352e-01\n",
            " -2.71654900e-05  6.85782788e-03  3.78033293e-02 -9.81395744e-03\n",
            " -1.15836381e-02]\n",
            "Variance score:  0.6955078374867558\n",
            "MSE for train sets: 20.440581670652474\n",
            "MSE for test  sets: 16.77015206002696\n"
          ]
        }
      ],
      "source": [
        "# defining feature matrix(X) and response vector(y)\n",
        "X = Ozone_dataset[['vh','wind','humidity','temp','ibh','dpg','ibt','vis','doy']]\n",
        "y = Ozone_dataset['ozone']\n",
        "\n",
        "# splitting X and y into training and testing sets\n",
        "X_train, X_test, y_train, y_test = train_test_split(X, y, test_size=0.3, random_state=2)\n",
        "\n",
        "# train the model\n",
        "model = LinearRegression().fit(X_train,y_train)\n",
        "\n",
        "print('Coefficients:\\n', 'intercept: ', model.intercept_, '\\n slope:', model.coef_)\n",
        "print('Variance score: ', model.score(X_test, y_test))\n",
        "print('MSE for train sets:', metrics.mean_squared_error(y_train, model.predict(X_train)))\n",
        "print('MSE for test  sets:', metrics.mean_squared_error(y_test, model.predict(X_test)))\n"
      ]
    },
    {
      "cell_type": "markdown",
      "metadata": {},
      "source": [
        "## Part B"
      ]
    },
    {
      "cell_type": "code",
      "execution_count": 4,
      "metadata": {},
      "outputs": [
        {
          "name": "stdout",
          "output_type": "stream",
          "text": [
            "MSE for train sets: 26.33411431286118\n",
            "MSE for test  sets: 21.859300622171627\n"
          ]
        },
        {
          "data": {
            "image/png": "[encoded data removed]",
            "text/plain": [
              "<Figure size 576x360 with 1 Axes>"
            ]
          },
          "metadata": {
            "needs_background": "light"
          },
          "output_type": "display_data"
        }
      ],
      "source": [
        "X2 = Ozone_dataset[['temp']]\n",
        "\n",
        "X2_train, X2_test, y2_train, y2_test = train_test_split(X2, y, test_size=0.3, random_state=2)\n",
        "model2 = LinearRegression().fit(X2_train,y2_train)\n",
        "\n",
        "print('MSE for train sets:', metrics.mean_squared_error(y2_train, model2.predict(X2_train)))\n",
        "print('MSE for test  sets:', metrics.mean_squared_error(y2_test, model2.predict(X2_test)))\n",
        "\n",
        "fig, ax = plt.subplots(figsize=(8, 5))\n",
        "ax.scatter(X2_test, y2_test, color='r', label='test data')\n",
        "ax.scatter(X2_train, y2_train, color='g', label='train data')\n",
        "ax.plot(X2_train['temp'], model2.predict(X2_train), color=\"blue\", label='Regression line')\n",
        "ax.set_ylabel('Upland Maximum Ozone(ozone)')\n",
        "ax.set_xlabel('Sandburg AFB Temperature(temp)')\n",
        "ax.legend()\n",
        "ax.text(0.62, 0.1,'$y = {:.2f} + {:.2f}x_1$'.format(model2.intercept_, model2.coef_[0]),\n",
        "                 color='b', fontsize=14, transform=ax.transAxes)\n",
        "\n",
        "fig.tight_layout()"
      ]
    },
    {
      "cell_type": "markdown",
      "metadata": {},
      "source": [
        "## Part C"
      ]
    },
    {
      "cell_type": "code",
      "execution_count": 5,
      "metadata": {},
      "outputs": [
        {
          "name": "stdout",
          "output_type": "stream",
          "text": [
            "dataset1:\n",
            "MSE for train sets: 10.272927673428017\n",
            "MSE for test  sets: 16.468116400084092\n",
            "dataset2:\n",
            "MSE for train sets: 27.566384815790183\n",
            "MSE for test  sets: 41.301605654240674\n"
          ]
        },
        {
          "data": {
            "image/png": "[encoded data removed]",
            "text/plain": [
              "<Figure size 576x360 with 1 Axes>"
            ]
          },
          "metadata": {
            "needs_background": "light"
          },
          "output_type": "display_data"
        }
      ],
      "source": [
        "X3 = Ozone_dataset[['ozone', 'temp']]\n",
        "\n",
        "dataset1 = [list(X3.values[i]) for i in range(len(X3.values)) if X3.values[i][1] < int(X2.median())]\n",
        "dataset1 = pd.DataFrame(dataset1, columns = ['ozone', 'temp'])\n",
        "dataset2 = [list(X3.values[i]) for i in range(len(X3.values)) if X3.values[i][1] >= int(X2.median())]\n",
        "dataset2 = pd.DataFrame(dataset2, columns = ['ozone', 'temp'])\n",
        "\n",
        "d1X_train, d1X_test, d1y_train, d1y_test = train_test_split(dataset1[['temp']], dataset1['ozone'], test_size=0.3, random_state=2)\n",
        "model3 = LinearRegression().fit(d1X_train,d1y_train)\n",
        "d2X_train, d2X_test, d2y_train, d2y_test = train_test_split(dataset2[['temp']], dataset2['ozone'], test_size=0.3, random_state=2)\n",
        "model4 = LinearRegression().fit(d2X_train,d2y_train)\n",
        "\n",
        "print('dataset1:')\n",
        "print('MSE for train sets:', metrics.mean_squared_error(d1y_train, model3.predict(d1X_train)))\n",
        "print('MSE for test  sets:', metrics.mean_squared_error(d1y_test, model3.predict(d1X_test)))\n",
        "print('dataset2:')\n",
        "print('MSE for train sets:', metrics.mean_squared_error(d2y_train, model4.predict(d2X_train)))\n",
        "print('MSE for test  sets:', metrics.mean_squared_error(d2y_test, model4.predict(d2X_test)))\n",
        "\n",
        "fig, ax = plt.subplots(figsize=(8, 5))\n",
        "ax.scatter(d1X_test, d1y_test, color='r', label='d1 test data')\n",
        "ax.scatter(d1X_train, d1y_train, color='g', label='d1 train data')\n",
        "ax.scatter(d2X_test, d2y_test, color='m', label='d2 test data')\n",
        "ax.scatter(d2X_train, d2y_train, color='c', label='d2 train data')\n",
        "ax.plot(d1X_train['temp'], model3.predict(d1X_train), color='b', label='Regression line')\n",
        "ax.plot(d2X_train['temp'], model4.predict(d2X_train), color='b')\n",
        "ax.set_ylabel('Upland Maximum Ozone(ozone)')\n",
        "ax.set_xlabel('Sandburg AFB Temperature(temp)')\n",
        "ax.legend()\n",
        "ax.plot(X2_train['temp'], model2.predict(X2_train), color='y', label='Part B Regression line')\n",
        "ax.text(0.68, 0.19,'$y_B = {:.2f} + {:.2f}x_1$'.format(model2.intercept_, model2.coef_[0]),\n",
        "                 color='y', fontsize=14, transform=ax.transAxes)\n",
        "ax.text(0.68, 0.14,'$y_1 = {:.2f} + {:.2f}x_1$'.format(model3.intercept_, model3.coef_[0]),\n",
        "                 color='b', fontsize=14, transform=ax.transAxes)\n",
        "ax.text(0.68, 0.09,'$y_2 = {:.2f} + {:.2f}x_1$'.format(model4.intercept_, model4.coef_[0]),\n",
        "                 color='b', fontsize=14, transform=ax.transAxes)\n",
        "ax.text(0.68, 0.04, '$y_B = average(y_1, y_2)$',\n",
        "                 color='grey', fontsize=14, transform=ax.transAxes, alpha=0.8)\n",
        "fig.tight_layout()"
      ]
    },
    {
      "cell_type": "code",
      "execution_count": 6,
      "metadata": {},
      "outputs": [],
      "source": [
        "# %reset -f"
      ]
    },
    {
      "cell_type": "markdown",
      "metadata": {},
      "source": [
        "# Question 8"
      ]
    },
    {
      "cell_type": "code",
      "execution_count": 7,
      "metadata": {},
      "outputs": [
        {
          "data": {
            "text/html": [
              "<div>\n",
              "<style scoped>\n",
              "    .dataframe tbody tr th:only-of-type {\n",
              "        vertical-align: middle;\n",
              "    }\n",
              "\n",
              "    .dataframe tbody tr th {\n",
              "        vertical-align: top;\n",
              "    }\n",
              "\n",
              "    .dataframe thead th {\n",
              "        text-align: right;\n",
              "    }\n",
              "</style>\n",
              "<table border=\"1\" class=\"dataframe\">\n",
              "  <thead>\n",
              "    <tr style=\"text-align: right;\">\n",
              "      <th></th>\n",
              "      <th>age</th>\n",
              "      <th>sex</th>\n",
              "      <th>bmi</th>\n",
              "      <th>children</th>\n",
              "      <th>smoker</th>\n",
              "      <th>region</th>\n",
              "      <th>charges</th>\n",
              "    </tr>\n",
              "  </thead>\n",
              "  <tbody>\n",
              "    <tr>\n",
              "      <th>0</th>\n",
              "      <td>19</td>\n",
              "      <td>female</td>\n",
              "      <td>27.900</td>\n",
              "      <td>0</td>\n",
              "      <td>yes</td>\n",
              "      <td>southwest</td>\n",
              "      <td>16.885</td>\n",
              "    </tr>\n",
              "    <tr>\n",
              "      <th>1</th>\n",
              "      <td>18</td>\n",
              "      <td>male</td>\n",
              "      <td>33.770</td>\n",
              "      <td>1</td>\n",
              "      <td>no</td>\n",
              "      <td>southeast</td>\n",
              "      <td>1.726</td>\n",
              "    </tr>\n",
              "    <tr>\n",
              "      <th>2</th>\n",
              "      <td>28</td>\n",
              "      <td>male</td>\n",
              "      <td>33.000</td>\n",
              "      <td>3</td>\n",
              "      <td>no</td>\n",
              "      <td>southeast</td>\n",
              "      <td>4.449</td>\n",
              "    </tr>\n",
              "    <tr>\n",
              "      <th>3</th>\n",
              "      <td>33</td>\n",
              "      <td>male</td>\n",
              "      <td>22.705</td>\n",
              "      <td>0</td>\n",
              "      <td>no</td>\n",
              "      <td>northwest</td>\n",
              "      <td>21.984</td>\n",
              "    </tr>\n",
              "    <tr>\n",
              "      <th>4</th>\n",
              "      <td>32</td>\n",
              "      <td>male</td>\n",
              "      <td>28.880</td>\n",
              "      <td>0</td>\n",
              "      <td>no</td>\n",
              "      <td>northwest</td>\n",
              "      <td>3.867</td>\n",
              "    </tr>\n",
              "  </tbody>\n",
              "</table>\n",
              "</div>"
            ],
            "text/plain": [
              "   age     sex     bmi  children smoker     region  charges\n",
              "0   19  female  27.900         0    yes  southwest   16.885\n",
              "1   18    male  33.770         1     no  southeast    1.726\n",
              "2   28    male  33.000         3     no  southeast    4.449\n",
              "3   33    male  22.705         0     no  northwest   21.984\n",
              "4   32    male  28.880         0     no  northwest    3.867"
            ]
          },
          "execution_count": 7,
          "metadata": {},
          "output_type": "execute_result"
        }
      ],
      "source": [
        "Insurance_dataset = pd.read_csv('insurance.csv')\n",
        "Insurance_dataset.head()"
      ]
    },
    {
      "cell_type": "markdown",
      "metadata": {},
      "source": [
        "## Part A"
      ]
    },
    {
      "cell_type": "code",
      "execution_count": 8,
      "metadata": {},
      "outputs": [
        {
          "data": {
            "text/plain": [
              "150.45523860057162"
            ]
          },
          "execution_count": 8,
          "metadata": {},
          "output_type": "execute_result"
        }
      ],
      "source": [
        "X = Insurance_dataset[['age', 'sex', 'bmi', 'children', 'smoker', 'region']]\n",
        "y = Insurance_dataset['charges']\n",
        "\n",
        "X_train, X_test, y_train, y_test = train_test_split(X, y, test_size=0.2, random_state=2, shuffle=True)\n",
        "\n",
        "metrics.mean_squared_error(y_test, [y_train.mean()]*y_test.values.size)"
      ]
    },
    {
      "cell_type": "markdown",
      "metadata": {},
      "source": [
        "## Part B"
      ]
    },
    {
      "cell_type": "code",
      "execution_count": 9,
      "metadata": {},
      "outputs": [
        {
          "name": "stdout",
          "output_type": "stream",
          "text": [
            "Coefficients:\n",
            " intercept:  -11.759257913278491 \n",
            " slope: [ 0.25122592  0.3328221   0.58792068 -0.0371514  23.91234775 -0.37914695\n",
            " -0.78443245 -0.94722219]\n",
            "Variance score:  0.7449408788113172\n",
            "MSE for train sets: 36.10023907559572\n",
            "MSE for test  sets: 38.305056850279506\n"
          ]
        }
      ],
      "source": [
        "# categorical columns\n",
        "cat_col = Insurance_dataset.select_dtypes(include='object').columns\n",
        "\n",
        "dummy_dataset = Insurance_dataset.drop(columns=cat_col)\n",
        "for var in cat_col:\n",
        "    dummy_dataset = dummy_dataset.join(pd.get_dummies(Insurance_dataset[var], prefix=var, drop_first=True))\n",
        "dummy_dataset.head()\n",
        "\n",
        "X2 = dummy_dataset[['age', 'bmi', 'children', 'sex_male', 'smoker_yes', 'region_northwest', 'region_southeast', 'region_southwest']]\n",
        "X2_train, X2_test, y2_train, y2_test = train_test_split(X2, y, test_size=0.2, random_state=2, shuffle=True)\n",
        "\n",
        "model2 = LinearRegression().fit(X2_train,y2_train)\n",
        "\n",
        "print('Coefficients:\\n', 'intercept: ', model2.intercept_, '\\n slope:', model2.coef_)\n",
        "print('Variance score: ', model2.score(X2_test, y2_test))\n",
        "print('MSE for train sets:', metrics.mean_squared_error(y2_train, model2.predict(X2_train)))\n",
        "print('MSE for test  sets:', metrics.mean_squared_error(y2_test, model2.predict(X2_test)))\n"
      ]
    },
    {
      "cell_type": "markdown",
      "metadata": {},
      "source": [
        "## Part C"
      ]
    },
    {
      "cell_type": "code",
      "execution_count": 10,
      "metadata": {},
      "outputs": [
        {
          "name": "stdout",
          "output_type": "stream",
          "text": [
            "Variance of Noise:  36.40646165022377\n",
            "R^2 = 1-(var(e)/var(y)): 0.7501491927517477\n",
            "R^2 = sklearn.metrics.r2_score: 0.7520189836385448\n"
          ]
        }
      ],
      "source": [
        "# residual sum of squares(RSS)\n",
        "RSS = np.sum(np.square(y2_train - model2.predict(X2_train)))\n",
        "\n",
        "# Variance of Noise = RSS/(n-p-1)\n",
        "var_eps = RSS / (y2_train.size - len(list(X2_train.columns)) - 1)\n",
        "print('Variance of Noise: ', var_eps)\n",
        "\n",
        "# R_square(𝑅2Statistics)\n",
        "print('R^2 = 1-(var(e)/var(y)):', 1 - (var_eps/y2_train.var()))\n",
        "print('R^2 = sklearn.metrics.r2_score:', metrics.r2_score(y2_train, model2.predict(X2_train)))"
      ]
    }
  ],
  "metadata": {
    "colab": {
      "collapsed_sections": [],
      "name": "Python_HW2.ipynb",
      "provenance": []
    },
    "interpreter": {
      "hash": "d8283cc4fef7fdfd79fce9ff4c59fb46bb636ce565bf5e011ed8cd98646ea4d5"
    },
    "kernelspec": {
      "display_name": "Python 3.8.5 64-bit",
      "name": "python3"
    },
    "language_info": {
      "codemirror_mode": {
        "name": "ipython",
        "version": 3
      },
      "file_extension": ".py",
      "mimetype": "text/x-python",
      "name": "python",
      "nbconvert_exporter": "python",
      "pygments_lexer": "ipython3",
      "version": "3.9.10"
    },
    "orig_nbformat": 4
  },
  "nbformat": 4,
  "nbformat_minor": 0
}
