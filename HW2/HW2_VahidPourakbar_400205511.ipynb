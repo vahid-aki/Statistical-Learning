{
  "cells": [
    {
      "cell_type": "markdown",
      "metadata": {
        "id": "y_RJ1-hW5Vj0"
      },
      "source": [
        "<h1 align=\"center\">\n",
        "<img src=\"https://drive.google.com/uc?export=view&id=1_ZkE3dnYg9KykzdZE6lIK2s_q_nbiKk_\" width=\"160\" height=\"160\">\n",
        "</h1>\n",
        "<h1 align=\"center\">Statistical Learning - 255381</h1>\n",
        "<h3 align=\"center\">Dr. Hoda Mohammadzade</h3>\n",
        "<h5 align=\"center\">Sharif University of Technology<br/>Electrical Engineering Department<br/>Spring 2022</h5>\n",
        "\n",
        "---\n",
        "\n",
        "\n",
        "# Problem Set 02\n",
        "\n",
        "Welcome to your second assignment. This exercise gives you a brief introduction to Python. \n",
        "\n",
        "> **Instructions:**\n",
        "> * You will be using Python 3.\n",
        "> * Please upload your assignment on CW.\n",
        "> * Your file name should be in format of ***HW# _Name_Student ID***\n",
        "> * Do not upload other students’ answers.\n",
        "> * If you have any inquiry regarding this assignment, message '@hamidrbnd' in Telegram or email hr_bandeali@yahoo.com.\n",
        "\n",
        "Let's get started!\n",
        "\n",
        "\n"
      ]
    },
    {
      "cell_type": "markdown",
      "metadata": {
        "id": "XiWVJpHv3qnH"
      },
      "source": [
        "## Import \n",
        ">Put all of your imports for this file in the below cell."
      ]
    },
    {
      "cell_type": "code",
      "execution_count": 2,
      "metadata": {
        "id": "fXAuXT5i3qnI"
      },
      "outputs": [],
      "source": [
        "### START CODE HERE ###\n",
        "import numpy as np\n",
        "import pandas as pd\n",
        "import re\n",
        "from matplotlib import pyplot as plt\n",
        "### END CODE HERE ###"
      ]
    },
    {
      "cell_type": "markdown",
      "metadata": {
        "id": "MNLmurYH3qnK"
      },
      "source": [
        "# Question 1"
      ]
    },
    {
      "cell_type": "markdown",
      "metadata": {
        "id": "OL18YrME3qnK"
      },
      "source": [
        "## Array creation\n",
        ">Create the followings to numpy array:\n",
        "* A: a 3\\*3 array like this:\n",
        "$$\n",
        "A = \\left(\\begin{array}{cc} \n",
        "1 & 2 & 3\\\\\n",
        "2 & 1 & 5\\\\\n",
        "3 & 5 & 4\n",
        "\\end{array}\\right)\n",
        "$$ \n",
        "* B: a 3\\*3\\*4 that filled with the numbers of [Fibonacci number](https://en.wikipedia.org/wiki/Fibonacci_number). The array should be filled first along the first dimension then the second dimension and at last the third dimension. like this:\n",
        "$$\n",
        "B[:, :, 0] = \\left(\\begin{array}{cc} \n",
        "1 & 3 & 13\\\\\n",
        "1 & 5 & 21\\\\\n",
        "2 & 8 & 34\n",
        "\\end{array}\\right)\n",
        "$$ "
      ]
    },
    {
      "cell_type": "code",
      "execution_count": 76,
      "metadata": {
        "id": "SdR31FxF3qnL"
      },
      "outputs": [
        {
          "name": "stdout",
          "output_type": "stream",
          "text": [
            "B= [[[       1       55     4181   317811]\n",
            "  [       3      233    17711  1346269]\n",
            "  [      13      987    75025  5702887]]\n",
            "\n",
            " [[       1       89     6765   514229]\n",
            "  [       5      377    28657  2178309]\n",
            "  [      21     1597   121393  9227465]]\n",
            "\n",
            " [[       2      144    10946   832040]\n",
            "  [       8      610    46368  3524578]\n",
            "  [      34     2584   196418 14930352]]] \n",
            "\n",
            "A= [[0 4 1]\n",
            " [1 6 9]\n",
            " [2 0 7]] \n",
            " B[:,:,0]= [[ 1  3 13]\n",
            " [ 1  5 21]\n",
            " [ 2  8 34]]\n"
          ]
        }
      ],
      "source": [
        "### START CODE HERE ###\n",
        "A = np.random.randint(low = 0,high = 10, size = (3,3))\n",
        "\n",
        "fib_list = [1, 1]\n",
        "any(map(lambda _: fib_list.append(sum(fib_list[-2:])), range(2, 36)))\n",
        "\n",
        "B0 = np.array([fib_list[i] for i in range(len(fib_list)) if i%3==0])\n",
        "B1 = np.array([fib_list[i] for i in range(len(fib_list)) if i%3==1])\n",
        "B2 = np.array([fib_list[i] for i in range(len(fib_list)) if i%3==2])\n",
        "B0 = B0.reshape(4,3).T\n",
        "B1 = B1.reshape(4,3).T\n",
        "B2 = B2.reshape(4,3).T\n",
        "\n",
        "B=np.concatenate((B0, B1,B2))\n",
        "B = B.reshape(3,3,4)\n",
        "\n",
        "print(\"B=\", B, '\\n')\n",
        "print(\"A=\", A, '\\n', \"B[:,:,0]=\", B[:,:,0])\n",
        "### END CODE HERE ###"
      ]
    },
    {
      "cell_type": "markdown",
      "metadata": {
        "id": "hBPNsr4J3qnM"
      },
      "source": [
        "## Replacement\n",
        ">Replace the last slice of array B (B[:, :, 3]) with values of A. Then print the result."
      ]
    },
    {
      "cell_type": "code",
      "execution_count": 77,
      "metadata": {
        "id": "PKseWPxl3qnO"
      },
      "outputs": [
        {
          "name": "stdout",
          "output_type": "stream",
          "text": [
            "[[[     1     55   4181      0]\n",
            "  [     3    233  17711      4]\n",
            "  [    13    987  75025      1]]\n",
            "\n",
            " [[     1     89   6765      1]\n",
            "  [     5    377  28657      6]\n",
            "  [    21   1597 121393      9]]\n",
            "\n",
            " [[     2    144  10946      2]\n",
            "  [     8    610  46368      0]\n",
            "  [    34   2584 196418      7]]]\n"
          ]
        }
      ],
      "source": [
        "### START CODE HERE ###\n",
        "B[:, :, 3] = A\n",
        "print(B)\n",
        "### END CODE HERE ###"
      ]
    },
    {
      "cell_type": "markdown",
      "metadata": {
        "id": "QjR422hl3qnO"
      },
      "source": [
        "## Axis Swap \n",
        ">Swap the second(B[:, :, 2]) and last(B[:, :, 3]) slice of the array B **only with one line of code**. Then print the result."
      ]
    },
    {
      "cell_type": "code",
      "execution_count": 78,
      "metadata": {
        "id": "TJwzGcEU3qnP"
      },
      "outputs": [
        {
          "name": "stdout",
          "output_type": "stream",
          "text": [
            "[[[     1     55      0   4181]\n",
            "  [     3    233      4  17711]\n",
            "  [    13    987      1  75025]]\n",
            "\n",
            " [[     1     89      1   6765]\n",
            "  [     5    377      6  28657]\n",
            "  [    21   1597      9 121393]]\n",
            "\n",
            " [[     2    144      2  10946]\n",
            "  [     8    610      0  46368]\n",
            "  [    34   2584      7 196418]]]\n"
          ]
        }
      ],
      "source": [
        "### START CODE HERE ###\n",
        "B[:, :, 3], B[:, :, 2] = B[:, :, 2], B[:, :, 3].copy()\n",
        "print(B)\n",
        "### END CODE HERE ###"
      ]
    },
    {
      "cell_type": "markdown",
      "metadata": {
        "id": "KCe5XppW3qnQ"
      },
      "source": [
        "## Transposing \n",
        ">Transpose the array B elements in each slice. Then print the result."
      ]
    },
    {
      "cell_type": "code",
      "execution_count": 79,
      "metadata": {
        "id": "BIItdagL3qnR"
      },
      "outputs": [
        {
          "name": "stdout",
          "output_type": "stream",
          "text": [
            "[[[     1      1      2]\n",
            "  [     3      5      8]\n",
            "  [    13     21     34]]\n",
            "\n",
            " [[    55     89    144]\n",
            "  [   233    377    610]\n",
            "  [   987   1597   2584]]\n",
            "\n",
            " [[     0      1      2]\n",
            "  [     4      6      0]\n",
            "  [     1      9      7]]\n",
            "\n",
            " [[  4181   6765  10946]\n",
            "  [ 17711  28657  46368]\n",
            "  [ 75025 121393 196418]]]\n"
          ]
        }
      ],
      "source": [
        "### START CODE HERE ###\n",
        "B = B.T\n",
        "print(B)\n",
        "### END CODE HERE ###"
      ]
    },
    {
      "cell_type": "markdown",
      "metadata": {
        "id": "6keSZqfy3qnR"
      },
      "source": [
        "## Matrix Multiplication\n",
        ">Calculate the matrix multiplication of three slices of the array B. \n",
        "(B[:, :, 0] \\* B[:, :, 1] \\* B[:, :, 2]). Then print the result.\n",
        "\n",
        ">**Note**: the result should be a 3\\*3 array. "
      ]
    },
    {
      "cell_type": "code",
      "execution_count": 85,
      "metadata": {
        "id": "Beq0gzCx3qnS"
      },
      "outputs": [
        {
          "name": "stdout",
          "output_type": "stream",
          "text": [
            "[[ 88034  64540 361430]\n",
            " [141400 103664 580528]\n",
            " [229434 168204 941958]]\n"
          ]
        }
      ],
      "source": [
        "### START CODE HERE ###\n",
        "D = B.T # because we transposed B in previous section and we can't make a 3*3 array using B.transpose\n",
        "\n",
        "C = np.matmul(np.matmul(D[:, :, 0],D[:, :, 1]),D[:, :, 2])\n",
        "print(C)\n",
        "### END CODE HERE ###"
      ]
    },
    {
      "cell_type": "markdown",
      "metadata": {
        "id": "wNh65Wv23qnS"
      },
      "source": [
        "## Determinant\n",
        ">Calculate the determinant of the array A and print it."
      ]
    },
    {
      "cell_type": "code",
      "execution_count": 86,
      "metadata": {
        "id": "TmJDA0gV3qnS"
      },
      "outputs": [
        {
          "name": "stdout",
          "output_type": "stream",
          "text": [
            "32.0\n"
          ]
        }
      ],
      "source": [
        "### START CODE HERE ###\n",
        "a = np.linalg.det(A)\n",
        "print(a)\n",
        "### END CODE HERE ###"
      ]
    },
    {
      "cell_type": "markdown",
      "metadata": {
        "id": "7LCoDs_x3qnT"
      },
      "source": [
        "# Question 2"
      ]
    },
    {
      "cell_type": "markdown",
      "metadata": {
        "id": "rmbKkjfW3qnT"
      },
      "source": [
        "## Loading dataset\n",
        ">Load the IMDB-Movie-Data.csv file into a pandas dataframe and show its first 5 rows. Each row of this dataframe corresponds to one film."
      ]
    },
    {
      "cell_type": "code",
      "execution_count": 4,
      "metadata": {
        "id": "KcknKhL93qnT"
      },
      "outputs": [
        {
          "data": {
            "text/html": [
              "<div>\n",
              "<style scoped>\n",
              "    .dataframe tbody tr th:only-of-type {\n",
              "        vertical-align: middle;\n",
              "    }\n",
              "\n",
              "    .dataframe tbody tr th {\n",
              "        vertical-align: top;\n",
              "    }\n",
              "\n",
              "    .dataframe thead th {\n",
              "        text-align: right;\n",
              "    }\n",
              "</style>\n",
              "<table border=\"1\" class=\"dataframe\">\n",
              "  <thead>\n",
              "    <tr style=\"text-align: right;\">\n",
              "      <th></th>\n",
              "      <th>Rank</th>\n",
              "      <th>Title</th>\n",
              "      <th>Genre</th>\n",
              "      <th>Description</th>\n",
              "      <th>Director</th>\n",
              "      <th>Actors</th>\n",
              "      <th>Year</th>\n",
              "      <th>Runtime (Minutes)</th>\n",
              "      <th>Rating</th>\n",
              "      <th>Votes</th>\n",
              "      <th>Revenue (Millions)</th>\n",
              "      <th>Metascore</th>\n",
              "    </tr>\n",
              "  </thead>\n",
              "  <tbody>\n",
              "    <tr>\n",
              "      <th>0</th>\n",
              "      <td>1</td>\n",
              "      <td>Guardians of the Galaxy</td>\n",
              "      <td>Action,Adventure,Sci-Fi</td>\n",
              "      <td>A group of intergalactic criminals are forced ...</td>\n",
              "      <td>James Gunn</td>\n",
              "      <td>Chris Pratt, Vin Diesel, Bradley Cooper, Zoe S...</td>\n",
              "      <td>2014</td>\n",
              "      <td>121</td>\n",
              "      <td>8.1</td>\n",
              "      <td>757074</td>\n",
              "      <td>333.13</td>\n",
              "      <td>76.0</td>\n",
              "    </tr>\n",
              "    <tr>\n",
              "      <th>1</th>\n",
              "      <td>2</td>\n",
              "      <td>Prometheus</td>\n",
              "      <td>Adventure,Mystery,Sci-Fi</td>\n",
              "      <td>Following clues to the origin of mankind, a te...</td>\n",
              "      <td>Ridley Scott</td>\n",
              "      <td>Noomi Rapace, Logan Marshall-Green, Michael Fa...</td>\n",
              "      <td>2012</td>\n",
              "      <td>124</td>\n",
              "      <td>7.0</td>\n",
              "      <td>485820</td>\n",
              "      <td>126.46</td>\n",
              "      <td>65.0</td>\n",
              "    </tr>\n",
              "    <tr>\n",
              "      <th>2</th>\n",
              "      <td>3</td>\n",
              "      <td>Split</td>\n",
              "      <td>Horror,Thriller</td>\n",
              "      <td>Three girls are kidnapped by a man with a diag...</td>\n",
              "      <td>M. Night Shyamalan</td>\n",
              "      <td>James McAvoy, Anya Taylor-Joy, Haley Lu Richar...</td>\n",
              "      <td>2016</td>\n",
              "      <td>117</td>\n",
              "      <td>7.3</td>\n",
              "      <td>157606</td>\n",
              "      <td>138.12</td>\n",
              "      <td>62.0</td>\n",
              "    </tr>\n",
              "    <tr>\n",
              "      <th>3</th>\n",
              "      <td>4</td>\n",
              "      <td>Sing</td>\n",
              "      <td>Animation,Comedy,Family</td>\n",
              "      <td>In a city of humanoid animals, a hustling thea...</td>\n",
              "      <td>Christophe Lourdelet</td>\n",
              "      <td>Matthew McConaughey,Reese Witherspoon, Seth Ma...</td>\n",
              "      <td>2016</td>\n",
              "      <td>108</td>\n",
              "      <td>7.2</td>\n",
              "      <td>60545</td>\n",
              "      <td>270.32</td>\n",
              "      <td>59.0</td>\n",
              "    </tr>\n",
              "    <tr>\n",
              "      <th>4</th>\n",
              "      <td>5</td>\n",
              "      <td>Suicide Squad</td>\n",
              "      <td>Action,Adventure,Fantasy</td>\n",
              "      <td>A secret government agency recruits some of th...</td>\n",
              "      <td>David Ayer</td>\n",
              "      <td>Will Smith, Jared Leto, Margot Robbie, Viola D...</td>\n",
              "      <td>2016</td>\n",
              "      <td>123</td>\n",
              "      <td>6.2</td>\n",
              "      <td>393727</td>\n",
              "      <td>325.02</td>\n",
              "      <td>40.0</td>\n",
              "    </tr>\n",
              "  </tbody>\n",
              "</table>\n",
              "</div>"
            ],
            "text/plain": [
              "   Rank                    Title                     Genre  \\\n",
              "0     1  Guardians of the Galaxy   Action,Adventure,Sci-Fi   \n",
              "1     2               Prometheus  Adventure,Mystery,Sci-Fi   \n",
              "2     3                    Split           Horror,Thriller   \n",
              "3     4                     Sing   Animation,Comedy,Family   \n",
              "4     5            Suicide Squad  Action,Adventure,Fantasy   \n",
              "\n",
              "                                         Description              Director  \\\n",
              "0  A group of intergalactic criminals are forced ...            James Gunn   \n",
              "1  Following clues to the origin of mankind, a te...          Ridley Scott   \n",
              "2  Three girls are kidnapped by a man with a diag...    M. Night Shyamalan   \n",
              "3  In a city of humanoid animals, a hustling thea...  Christophe Lourdelet   \n",
              "4  A secret government agency recruits some of th...            David Ayer   \n",
              "\n",
              "                                              Actors  Year  Runtime (Minutes)  \\\n",
              "0  Chris Pratt, Vin Diesel, Bradley Cooper, Zoe S...  2014                121   \n",
              "1  Noomi Rapace, Logan Marshall-Green, Michael Fa...  2012                124   \n",
              "2  James McAvoy, Anya Taylor-Joy, Haley Lu Richar...  2016                117   \n",
              "3  Matthew McConaughey,Reese Witherspoon, Seth Ma...  2016                108   \n",
              "4  Will Smith, Jared Leto, Margot Robbie, Viola D...  2016                123   \n",
              "\n",
              "   Rating   Votes  Revenue (Millions)  Metascore  \n",
              "0     8.1  757074              333.13       76.0  \n",
              "1     7.0  485820              126.46       65.0  \n",
              "2     7.3  157606              138.12       62.0  \n",
              "3     7.2   60545              270.32       59.0  \n",
              "4     6.2  393727              325.02       40.0  "
            ]
          },
          "execution_count": 4,
          "metadata": {},
          "output_type": "execute_result"
        }
      ],
      "source": [
        "### START CODE HERE ###\n",
        "Data = pd.read_csv('IMDB-Movie-Data.csv')\n",
        "Data.head(5)\n",
        "### END CODE HERE ###"
      ]
    },
    {
      "cell_type": "markdown",
      "metadata": {
        "id": "pvbhRIGw3qnU"
      },
      "source": [
        "## Actors/Actresses Activity\n",
        ">For each Actors/Actresses caculate the number of movies in the dataframe, then sort the actors/actresses first by their number of movies in descending order and then by their name in ascending order. "
      ]
    },
    {
      "cell_type": "code",
      "execution_count": 73,
      "metadata": {
        "id": "Pqz5H_Ma3qnU"
      },
      "outputs": [
        {
          "data": {
            "text/html": [
              "<div>\n",
              "<style scoped>\n",
              "    .dataframe tbody tr th:only-of-type {\n",
              "        vertical-align: middle;\n",
              "    }\n",
              "\n",
              "    .dataframe tbody tr th {\n",
              "        vertical-align: top;\n",
              "    }\n",
              "\n",
              "    .dataframe thead th {\n",
              "        text-align: right;\n",
              "    }\n",
              "</style>\n",
              "<table border=\"1\" class=\"dataframe\">\n",
              "  <thead>\n",
              "    <tr style=\"text-align: right;\">\n",
              "      <th></th>\n",
              "      <th>Name</th>\n",
              "      <th>Number of movies</th>\n",
              "    </tr>\n",
              "  </thead>\n",
              "  <tbody>\n",
              "    <tr>\n",
              "      <th>0</th>\n",
              "      <td>Mark Wahlberg</td>\n",
              "      <td>15</td>\n",
              "    </tr>\n",
              "    <tr>\n",
              "      <th>1</th>\n",
              "      <td>Hugh Jackman</td>\n",
              "      <td>14</td>\n",
              "    </tr>\n",
              "    <tr>\n",
              "      <th>2</th>\n",
              "      <td>Brad Pitt</td>\n",
              "      <td>13</td>\n",
              "    </tr>\n",
              "    <tr>\n",
              "      <th>3</th>\n",
              "      <td>Christian Bale</td>\n",
              "      <td>13</td>\n",
              "    </tr>\n",
              "    <tr>\n",
              "      <th>4</th>\n",
              "      <td>Anne Hathaway</td>\n",
              "      <td>12</td>\n",
              "    </tr>\n",
              "    <tr>\n",
              "      <th>...</th>\n",
              "      <td>...</td>\n",
              "      <td>...</td>\n",
              "    </tr>\n",
              "    <tr>\n",
              "      <th>1980</th>\n",
              "      <td>Zachery Ty Bryan</td>\n",
              "      <td>1</td>\n",
              "    </tr>\n",
              "    <tr>\n",
              "      <th>1981</th>\n",
              "      <td>Zoe Kazan</td>\n",
              "      <td>1</td>\n",
              "    </tr>\n",
              "    <tr>\n",
              "      <th>1982</th>\n",
              "      <td>Émilie Leclerc</td>\n",
              "      <td>1</td>\n",
              "    </tr>\n",
              "    <tr>\n",
              "      <th>1983</th>\n",
              "      <td>Ólafur Darri Ólafsson</td>\n",
              "      <td>1</td>\n",
              "    </tr>\n",
              "    <tr>\n",
              "      <th>1984</th>\n",
              "      <td>Óscar Jaenada</td>\n",
              "      <td>1</td>\n",
              "    </tr>\n",
              "  </tbody>\n",
              "</table>\n",
              "<p>1985 rows × 2 columns</p>\n",
              "</div>"
            ],
            "text/plain": [
              "                       Name  Number of movies\n",
              "0             Mark Wahlberg                15\n",
              "1              Hugh Jackman                14\n",
              "2                 Brad Pitt                13\n",
              "3            Christian Bale                13\n",
              "4             Anne Hathaway                12\n",
              "...                     ...               ...\n",
              "1980       Zachery Ty Bryan                 1\n",
              "1981              Zoe Kazan                 1\n",
              "1982         Émilie Leclerc                 1\n",
              "1983  Ólafur Darri Ólafsson                 1\n",
              "1984          Óscar Jaenada                 1\n",
              "\n",
              "[1985 rows x 2 columns]"
            ]
          },
          "execution_count": 73,
          "metadata": {},
          "output_type": "execute_result"
        }
      ],
      "source": [
        "### START CODE HERE ###\n",
        "Actors_dict = {}\n",
        "for line in Data['Actors']:\n",
        "    for i in re.split(', |,', line):\n",
        "        Actors_dict[i] = Actors_dict.get(i, 0) + 1\n",
        "\n",
        "rslt_df = pd.DataFrame(Actors_dict.items(), columns=['Name', 'Number of movies'])\n",
        "rslt_df.sort_values(['Number of movies', 'Name'], ascending=[False, True]).reset_index(drop=True)\n",
        "### END CODE HERE ###"
      ]
    },
    {
      "cell_type": "markdown",
      "metadata": {
        "id": "AtSvanjaBicB"
      },
      "source": [
        "## Average Rate\n",
        ">Caculate the average rate of every year and sort them in descending order. Print them as a dictionary with year as key and average rate as value."
      ]
    },
    {
      "cell_type": "code",
      "execution_count": 78,
      "metadata": {
        "id": "v24H0FpQBiBk"
      },
      "outputs": [
        {
          "data": {
            "text/plain": [
              "Year\n",
              "2007    7.133962\n",
              "2006    7.125000\n",
              "2009    6.960784\n",
              "2012    6.925000\n",
              "2011    6.838095\n",
              "2014    6.837755\n",
              "2010    6.826667\n",
              "2013    6.812088\n",
              "2008    6.784615\n",
              "2015    6.602362\n",
              "2016    6.436700\n",
              "Name: Rating, dtype: float64"
            ]
          },
          "execution_count": 78,
          "metadata": {},
          "output_type": "execute_result"
        }
      ],
      "source": [
        "### START CODE HERE ###\n",
        "Data.groupby('Year')['Rating'].mean().sort_values(ascending=False)\n",
        "### END CODE HERE ###"
      ]
    },
    {
      "cell_type": "markdown",
      "metadata": {
        "id": "WWDODpmt3qnV"
      },
      "source": [
        "## Score Histogram\n",
        ">Draw the histogram of metascores and ratings. "
      ]
    },
    {
      "cell_type": "code",
      "execution_count": 79,
      "metadata": {
        "id": "Vzybd4bu3qnV"
      },
      "outputs": [
        {
          "data": {
            "text/plain": [
              "array([[<AxesSubplot:title={'center':'Metascore'}>,\n",
              "        <AxesSubplot:title={'center':'Rating'}>]], dtype=object)"
            ]
          },
          "execution_count": 79,
          "metadata": {},
          "output_type": "execute_result"
        },
        {
          "data": {
            "image/png": "[encoded data removed]",
            "text/plain": [
              "<Figure size 432x288 with 2 Axes>"
            ]
          },
          "metadata": {
            "needs_background": "light"
          },
          "output_type": "display_data"
        }
      ],
      "source": [
        "### START CODE HERE ###\n",
        "Data.hist(['Metascore','Rating'])\n",
        "### END CODE HERE ###"
      ]
    },
    {
      "cell_type": "markdown",
      "metadata": {
        "id": "spuzy6pJ3qnV"
      },
      "source": [
        "## Correlations\n",
        ">Calculate the correlation between rating, votes and metascore of the movies.\n",
        "Is there any meaningful relation between these features? "
      ]
    },
    {
      "cell_type": "code",
      "execution_count": 80,
      "metadata": {
        "id": "vDGfbajj3qnW"
      },
      "outputs": [
        {
          "data": {
            "text/html": [
              "<div>\n",
              "<style scoped>\n",
              "    .dataframe tbody tr th:only-of-type {\n",
              "        vertical-align: middle;\n",
              "    }\n",
              "\n",
              "    .dataframe tbody tr th {\n",
              "        vertical-align: top;\n",
              "    }\n",
              "\n",
              "    .dataframe thead th {\n",
              "        text-align: right;\n",
              "    }\n",
              "</style>\n",
              "<table border=\"1\" class=\"dataframe\">\n",
              "  <thead>\n",
              "    <tr style=\"text-align: right;\">\n",
              "      <th></th>\n",
              "      <th>Rating</th>\n",
              "      <th>Votes</th>\n",
              "      <th>Metascore</th>\n",
              "    </tr>\n",
              "  </thead>\n",
              "  <tbody>\n",
              "    <tr>\n",
              "      <th>Rating</th>\n",
              "      <td>1.000000</td>\n",
              "      <td>0.511537</td>\n",
              "      <td>0.631897</td>\n",
              "    </tr>\n",
              "    <tr>\n",
              "      <th>Votes</th>\n",
              "      <td>0.511537</td>\n",
              "      <td>1.000000</td>\n",
              "      <td>0.325684</td>\n",
              "    </tr>\n",
              "    <tr>\n",
              "      <th>Metascore</th>\n",
              "      <td>0.631897</td>\n",
              "      <td>0.325684</td>\n",
              "      <td>1.000000</td>\n",
              "    </tr>\n",
              "  </tbody>\n",
              "</table>\n",
              "</div>"
            ],
            "text/plain": [
              "             Rating     Votes  Metascore\n",
              "Rating     1.000000  0.511537   0.631897\n",
              "Votes      0.511537  1.000000   0.325684\n",
              "Metascore  0.631897  0.325684   1.000000"
            ]
          },
          "execution_count": 80,
          "metadata": {},
          "output_type": "execute_result"
        }
      ],
      "source": [
        "### START CODE HERE ###\n",
        "Data[['Rating', 'Votes', 'Metascore']].corr()\n",
        "### END CODE HERE ###"
      ]
    },
    {
      "cell_type": "markdown",
      "metadata": {
        "id": "m65Pi1cn3qnW"
      },
      "source": [
        "# Question 3"
      ]
    },
    {
      "cell_type": "markdown",
      "metadata": {
        "id": "6ws3L_AM3qnW"
      },
      "source": [
        "## File\n",
        "> Craet a .txt file and name it \"Name_actors\". You must write the name of all actors/actresses in the IMDB-Movie-Data.csv file. Don't write a name multiple time and write each name in a new line."
      ]
    },
    {
      "cell_type": "code",
      "execution_count": 86,
      "metadata": {
        "id": "DRCarRj53qnW"
      },
      "outputs": [],
      "source": [
        "### START CODE HERE ###\n",
        "with open(\"Name_actors.txt\", 'w') as f:\n",
        "    for i in Actors_dict:\n",
        "        f.write(f\"{i}\\n\")\n",
        "### END CODE HERE ###"
      ]
    },
    {
      "cell_type": "markdown",
      "metadata": {
        "id": "ZWIvjPIM3qnX"
      },
      "source": [
        "# Question 4"
      ]
    },
    {
      "cell_type": "markdown",
      "metadata": {
        "id": "plXIAu-53qnX"
      },
      "source": [
        "## Plot\n",
        ">You must plot the number of movies in each year according to the IMDB-Movie-Data.csv file. X-axis is year and y-axis show the number of movies in each year.\n",
        "> set the x_label, y_label and title for your plot."
      ]
    },
    {
      "cell_type": "code",
      "execution_count": 104,
      "metadata": {
        "id": "H_Hr5LLx3qnX"
      },
      "outputs": [
        {
          "data": {
            "text/plain": [
              "<function matplotlib.pyplot.show(close=None, block=None)>"
            ]
          },
          "execution_count": 104,
          "metadata": {},
          "output_type": "execute_result"
        },
        {
          "data": {
            "image/png": "[encoded data removed]",
            "text/plain": [
              "<Figure size 432x288 with 1 Axes>"
            ]
          },
          "metadata": {
            "needs_background": "light"
          },
          "output_type": "display_data"
        }
      ],
      "source": [
        "### START CODE HERE ###\n",
        "year_dict = {}\n",
        "for i in Data['Year']:\n",
        "    year_dict[i] = year_dict.get(i, 0) + 1\n",
        "year_dict = dict(sorted(year_dict.items()))\n",
        "\n",
        "plt.plot(*zip(*year_dict.items()))\n",
        "plt.scatter(year_dict.keys(), year_dict.values())\n",
        "\n",
        "plt.xlabel(\"Year\")\n",
        "plt.ylabel(\"Num of Movies\")\n",
        "plt.title(\"Number of Movies in each Year\")\n",
        "plt.grid()\n",
        "plt.show\n",
        "### END CODE HERE ###"
      ]
    },
    {
      "cell_type": "markdown",
      "metadata": {
        "id": "Ot8FaDfv3qnX"
      },
      "source": [
        "## Plot\n",
        ">You must plot the cos(x) curve. plot 20 cycle of the curve. the frequency of first half of curve is 50 Hz and frequency of second lalf is 20 Hz. \n",
        "> set the x_label, y_label and title for your plot."
      ]
    },
    {
      "cell_type": "code",
      "execution_count": 5,
      "metadata": {
        "id": "CCvnd0_F3qnY"
      },
      "outputs": [
        {
          "data": {
            "text/plain": [
              "Text(0, 0.5, 'Cos(X)')"
            ]
          },
          "execution_count": 5,
          "metadata": {},
          "output_type": "execute_result"
        },
        {
          "data": {
            "image/png": "[encoded data removed]",
            "text/plain": [
              "<Figure size 432x288 with 1 Axes>"
            ]
          },
          "metadata": {
            "needs_background": "light"
          },
          "output_type": "display_data"
        }
      ],
      "source": [
        "### START CODE HERE ###\n",
        "x1 = np.arange(0, 0.2, 0.00001)\n",
        "y1 = np.cos(2*np.pi*50*x1)\n",
        "x2 = np.arange(0.2, 0.2+0.05, 0.00001)\n",
        "y2 = np.cos(2*np.pi*200*x2)\n",
        "\n",
        "plt.plot(np.concatenate((x1, x2)), np.concatenate((y1, y2)))\n",
        "plt.title(\"Cos(x) curve with two frequency\")\n",
        "plt.xlabel(\"X\")\n",
        "plt.ylabel(\"Cos(X)\")\n",
        "### END CODE HERE ###"
      ]
    }
  ],
  "metadata": {
    "colab": {
      "collapsed_sections": [],
      "name": "Python_HW2.ipynb",
      "provenance": []
    },
    "interpreter": {
      "hash": "d8283cc4fef7fdfd79fce9ff4c59fb46bb636ce565bf5e011ed8cd98646ea4d5"
    },
    "kernelspec": {
      "display_name": "Python 3.8.5 64-bit",
      "name": "python3"
    },
    "language_info": {
      "codemirror_mode": {
        "name": "ipython",
        "version": 3
      },
      "file_extension": ".py",
      "mimetype": "text/x-python",
      "name": "python",
      "nbconvert_exporter": "python",
      "pygments_lexer": "ipython3",
      "version": "3.9.10"
    },
    "orig_nbformat": 4
  },
  "nbformat": 4,
  "nbformat_minor": 0
}
