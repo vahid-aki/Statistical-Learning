{
  "cells": [
    {
      "cell_type": "markdown",
      "metadata": {
        "id": "Huz4iqmNvQsz"
      },
      "source": [
        "<h1 align=\"center\">\n",
        "<img src=\"https://drive.google.com/uc?export=view&id=1_ZkE3dnYg9KykzdZE6lIK2s_q_nbiKk_\" width=\"160\" height=\"160\">\n",
        "</h1>\n",
        "<h5 align=\"center\">Sharif University of Technology<br/>Electrical Engineering Department<br/>Spring 2022</h5>\n",
        "\n",
        "---\n",
        "\n",
        "\n",
        "# Problem Set 01\n",
        "\n",
        "Welcome to your first assignment. This exercise gives you a brief introduction to Python. \n",
        "\n",
        "> **Instructions:**\n",
        "> * You will be using Python 3.\n",
        "> * Please upload your assignment on CW.\n",
        "> * Your file name should be in format of ***HW# _Name_Student ID***\n",
        "> * Do not upload other students’ answers.\n",
        "> * If you have any inquiry regarding this assignment, message '@amin_dehnavi' in Telegram or email amindehnavi10@gmail.com.\n",
        "\n",
        "Let's get started!\n",
        "\n",
        "\n"
      ]
    },
    {
      "cell_type": "code",
      "execution_count": null,
      "metadata": {
        "id": "CFkqGLMlB9ck",
        "colab": {
          "base_uri": "https://localhost:8080/"
        },
        "outputId": "cd59d022-17d7-4767-9c9d-eaa0116d42f0"
      },
      "outputs": [
        {
          "output_type": "stream",
          "name": "stdout",
          "text": [
            "StudentName:Vahid Pourakbar , StudentID:400205511\n"
          ]
        }
      ],
      "source": [
        "### Please Fill the following entries\n",
        "StudentName = \"Vahid Pourakbar\"\n",
        "StudentID   = \"400205511\"\n",
        "\n",
        "print (f'StudentName:{StudentName} , StudentID:{StudentID}')"
      ]
    },
    {
      "cell_type": "markdown",
      "metadata": {
        "id": "YESFVnEEvQs8"
      },
      "source": [
        "## About iPython Notebooks ##\n",
        "\n",
        "iPython Notebooks are interactive coding environments embedded in a webpage. You will be using iPython notebooks in this class. You only need to write code between the ### START CODE HERE ### and ### END CODE HERE ### comments. After writing your code, you can run the cell by either pressing \"SHIFT\"+\"ENTER\" or by clicking on \"Run Cell\" (denoted by a play symbol) in the upper bar of the notebook. \n",
        "\n",
        "**Exercise**: Set test to `\"Hello World\"` in the cell below to print \"Hello World\" and run the two cells below."
      ]
    },
    {
      "cell_type": "code",
      "execution_count": null,
      "metadata": {
        "id": "z_CYYVDzvQs8",
        "colab": {
          "base_uri": "https://localhost:8080/"
        },
        "outputId": "5d14a158-9f86-4b62-f92c-c0567b50e7cf"
      },
      "outputs": [
        {
          "output_type": "stream",
          "name": "stdout",
          "text": [
            "Hello World\n"
          ]
        }
      ],
      "source": [
        "### START CODE HERE ###\n",
        "test = \"Hello World\" \n",
        "print(test)\n",
        "### END CODE HERE ###"
      ]
    },
    {
      "cell_type": "markdown",
      "metadata": {
        "id": "dt3BR1N_vQs9"
      },
      "source": [
        "<font color='blue'>\n",
        "**What you need to remember**:\n",
        "- Run your cells using SHIFT+ENTER (or \"Run cell\")\n",
        "- Write code in the designated areas using Python 3 only\n",
        "- Do not modify the code outside of the designated areas"
      ]
    },
    {
      "cell_type": "markdown",
      "metadata": {
        "id": "vRbqK2zDvQs9"
      },
      "source": [
        "# 1.\n",
        ">What are the lengths of the following lists and strings below? Fill in the variable `lengths` with your predictions. (Try to make a prediction for each list *without* just calling `len()` on it.)"
      ]
    },
    {
      "cell_type": "code",
      "execution_count": 57,
      "metadata": {
        "id": "vSe02i-zvQs-"
      },
      "outputs": [],
      "source": [
        "a = [1, 2, 3]\n",
        "b = [1, [2, 3]]\n",
        "c = []\n",
        "d = [1, 2, 3][1:]\n",
        "e = 'it\\'s ok'\n",
        "f = \"\"\n",
        "g = \"\"\"hey\"\"\"\n",
        "h = '\\n'\n",
        "\n",
        "# Put your predictions in the list below. Lengths should contain 8 numbers, the\n",
        "# first being the length of a, the second being the length of b and so on.\n",
        "\n",
        "### START CODE HERE ###\n",
        "lengths = [3, 2, 0, 2, 7, 0, 3, 1]\n",
        "### END CODE HERE ###"
      ]
    },
    {
      "cell_type": "markdown",
      "metadata": {
        "id": "Daim1IuRvQs-"
      },
      "source": [
        "# 2. \n",
        ">Swap the values to which a and b refer."
      ]
    },
    {
      "cell_type": "code",
      "execution_count": 5,
      "metadata": {
        "id": "Gvg9PxT8vQs-",
        "colab": {
          "base_uri": "https://localhost:8080/"
        },
        "outputId": "d65bdcba-0e82-4f05-f628-1ca3c5acfa02"
      },
      "outputs": [
        {
          "output_type": "stream",
          "name": "stdout",
          "text": [
            "[3, 2, 1] [1, 2, 3]\n"
          ]
        }
      ],
      "source": [
        "a = [1, 2, 3]\n",
        "b = [3, 2, 1]\n",
        "\n",
        "### START CODE HERE ###\n",
        "a, b = b, a\n",
        "### END CODE HERE ###"
      ]
    },
    {
      "cell_type": "markdown",
      "metadata": {
        "id": "1Ccry0DKvQs_"
      },
      "source": [
        "# 3. \n",
        ">Which of the two variables below has the smallest absolute value? Use Python's built-in functions."
      ]
    },
    {
      "cell_type": "code",
      "execution_count": null,
      "metadata": {
        "id": "U3_EedHCvQs_",
        "colab": {
          "base_uri": "https://localhost:8080/"
        },
        "outputId": "c49c98ca-d3da-4bab-bf44-1563fa487276"
      },
      "outputs": [
        {
          "output_type": "stream",
          "name": "stdout",
          "text": [
            "5\n"
          ]
        }
      ],
      "source": [
        "x = -10\n",
        "y = 5\n",
        "\n",
        "### START CODE HERE ###\n",
        "smallest_abs = min(x, y, key=abs)\n",
        "### END CODE HERE ###"
      ]
    },
    {
      "cell_type": "markdown",
      "metadata": {
        "id": "LDz4N2_NvQs_"
      },
      "source": [
        "# 4. \n",
        "\n",
        "> A simple exercise! Run the cell below and try to explain the results for yourself:\n",
        "\n"
      ]
    },
    {
      "cell_type": "code",
      "execution_count": null,
      "metadata": {
        "id": "c6v3iUYTvQtA",
        "colab": {
          "base_uri": "https://localhost:8080/"
        },
        "outputId": "d8487390-b7a2-45bd-8ace-69faea25c17f"
      },
      "outputs": [
        {
          "output_type": "stream",
          "name": "stdout",
          "text": [
            "1.0\n",
            "0.0\n",
            "1.0\n"
          ]
        }
      ],
      "source": [
        "print( 1.0 + 1.0 - 1.0 )\n",
        "print( 1.0 + 1.0e20 - 1.0e20 )\n",
        "print( 1.0e20 - 1.0e20 + 1 )"
      ]
    },
    {
      "cell_type": "markdown",
      "metadata": {
        "id": "fUE7pqjSvQtA"
      },
      "source": [
        "# 5.\n",
        ">Many programming languages have [`sign`](https://en.wikipedia.org/wiki/Sign_function) available as a built-in function. Python doesn't, but we can define our own! \n",
        "In the cell below, define a function called `sign` which takes a numerical argument and returns -1 if it's negative, 1 if it's positive, and 0 if it's 0."
      ]
    },
    {
      "cell_type": "code",
      "execution_count": null,
      "metadata": {
        "id": "ZDhOxPpvvQtB",
        "colab": {
          "base_uri": "https://localhost:8080/"
        },
        "outputId": "afe94ed0-132d-44ee-9ea5-5d48f74d5ba3"
      },
      "outputs": [
        {
          "output_type": "stream",
          "name": "stdout",
          "text": [
            "1\n",
            "-1\n",
            "0\n"
          ]
        }
      ],
      "source": [
        "def sign(x):\n",
        "    # (\"pass\" is a keyword that does literally nothing. We used it as a placeholder\n",
        "    # because after we begin a code block, Python requires at least one line of code)\n",
        "    \n",
        "    ### START CODE HERE ###\n",
        "    return 1 if x>0 else -1 if x<0 else 0\n",
        "    ### END CODE HERE ###\n",
        "    pass\n",
        "\n",
        "# You can try different examples to check your function:\n",
        "print(sign(2))\n",
        "print(sign(-2))\n",
        "print(sign(0))"
      ]
    },
    {
      "cell_type": "markdown",
      "metadata": {
        "id": "eC9P5ZUYvQtB"
      },
      "source": [
        "# 6. \n",
        ">Complete the body of the following function according to its docstring.\n",
        "\n",
        "HINT: Python has a built-in function `round`."
      ]
    },
    {
      "cell_type": "code",
      "execution_count": null,
      "metadata": {
        "id": "IgmX4KkJvQtB",
        "colab": {
          "base_uri": "https://localhost:8080/"
        },
        "outputId": "abe17154-363e-4948-b388-addaefb40b32"
      },
      "outputs": [
        {
          "output_type": "stream",
          "name": "stdout",
          "text": [
            "10.0\n"
          ]
        }
      ],
      "source": [
        "def round_to_two_places(num):\n",
        "    \"\"\"Return the given number rounded to two decimal places. \n",
        "    \n",
        "    >>> round_to_two_places(3.14159)\n",
        "    3.14\n",
        "    \"\"\"\n",
        "    ### START CODE HERE ###\n",
        "    return round(num,2)\n",
        "    ### END CODE HERE ###\n",
        "    pass\n",
        "\n",
        "round_to_two_places(9.9999)"
      ]
    },
    {
      "cell_type": "markdown",
      "metadata": {
        "id": "3CGToW1lvQtC"
      },
      "source": [
        "The help for `round` says that `ndigits` (the second argument) may be negative.\n",
        "What do you think will happen when it is? Try an example in the cell below."
      ]
    },
    {
      "cell_type": "code",
      "execution_count": null,
      "metadata": {
        "id": "ZFYyym9hvQtC",
        "colab": {
          "base_uri": "https://localhost:8080/"
        },
        "outputId": "bb2b20bb-796c-47b0-96ea-d6fb1548e76e"
      },
      "outputs": [
        {
          "output_type": "stream",
          "name": "stdout",
          "text": [
            "200.0\n"
          ]
        }
      ],
      "source": [
        "print(round(232.4243, -2))"
      ]
    },
    {
      "cell_type": "markdown",
      "metadata": {
        "id": "I3dSboBdvQtC"
      },
      "source": [
        "# 7.\n",
        "> Write a function that evaluates the polynomial $${3x^2 − x + 2}$$"
      ]
    },
    {
      "cell_type": "code",
      "execution_count": null,
      "metadata": {
        "id": "W6CkTkHJvQtD",
        "colab": {
          "base_uri": "https://localhost:8080/"
        },
        "outputId": "0c7243b3-287d-4406-a886-e7cc8d249790"
      },
      "outputs": [
        {
          "output_type": "stream",
          "name": "stdout",
          "text": [
            "26\n"
          ]
        }
      ],
      "source": [
        "def polynomial(x):\n",
        "    ### START CODE HERE ###\n",
        "    return 3*x*x - x + 2\n",
        "    ### END CODE HERE ###\n",
        "    pass"
      ]
    },
    {
      "cell_type": "markdown",
      "metadata": {
        "id": "UKIkps2ovQtD"
      },
      "source": [
        "# 8.\n",
        ">Complete the function below according to its docstring."
      ]
    },
    {
      "cell_type": "code",
      "execution_count": null,
      "metadata": {
        "id": "8HeVlBm5vQtE",
        "colab": {
          "base_uri": "https://localhost:8080/"
        },
        "outputId": "e01c49ce-5d57-4b2c-beee-1a36b567360b"
      },
      "outputs": [
        {
          "output_type": "stream",
          "name": "stdout",
          "text": [
            "None\n"
          ]
        }
      ],
      "source": [
        "def select_second(L):\n",
        "    \"\"\"Return the second element of the given list. If the list has no second\n",
        "    element, return None.\n",
        "    \"\"\"\n",
        "    ### START CODE HERE ###\n",
        "    return L[1] if len(L)>1 else None\n",
        "    ### END CODE HERE ###\n",
        "    pass"
      ]
    },
    {
      "cell_type": "markdown",
      "metadata": {
        "id": "W7FFGczHvQtE"
      },
      "source": [
        "# 9.\n",
        ">We're using lists to record people who attended a class and what order they arrived in. For example, the following list represents a class with 7 students, in which 'Amirhossein' showed up first and 'Pedram' was the last to arrive:\n",
        "    \n",
        "> class_attendees = ['Amirhossein', 'Hadi', 'Fatemeh', 'Mahtab', 'Ali', 'Nasim', 'Pedram']\n",
        "\n",
        "> A student is considered 'fashionably late' if they arrived after at least half of the class's students. However, they must not be the very last student (that's taking it too far). In the above example, Ali and Nasim are the only students who were fashionably late.\n",
        "Complete the function below which takes a list of class attendees as well as a person, and tells us whether that person is fashionably late."
      ]
    },
    {
      "cell_type": "code",
      "execution_count": null,
      "metadata": {
        "id": "V5b0CXtwvQtE",
        "colab": {
          "base_uri": "https://localhost:8080/"
        },
        "outputId": "dbca71ec-259b-4d5e-f38c-a4c4cdd1be54"
      },
      "outputs": [
        {
          "output_type": "stream",
          "name": "stdout",
          "text": [
            "True\n"
          ]
        }
      ],
      "source": [
        "def fashionably_late(arrivals, name):\n",
        "    \"\"\"Given an ordered list of arrivals to the class and a name, return whether the student with that\n",
        "    name was fashionably late.\n",
        "    \"\"\"\n",
        "    ### START CODE HERE ###\n",
        "    return arrivals.index(name) >= len(arrivals)/2 and arrivals.index(name) != len(arrivals)-1\n",
        "    ### END CODE HERE ###\n",
        "    pass"
      ]
    },
    {
      "cell_type": "markdown",
      "metadata": {
        "id": "ZHvU9UiFvQtF"
      },
      "source": [
        "# 10.\n",
        ">Complete the function below according to its docstring."
      ]
    },
    {
      "cell_type": "code",
      "execution_count": 9,
      "metadata": {
        "id": "SWFoGy-2vQtF",
        "colab": {
          "base_uri": "https://localhost:8080/"
        },
        "outputId": "51a00ce0-d92a-49ac-ec76-a9d1da234ce0"
      },
      "outputs": [
        {
          "output_type": "stream",
          "name": "stdout",
          "text": [
            "True\n"
          ]
        }
      ],
      "source": [
        "def has_lucky_number(nums):\n",
        "    \"\"\"Return whether the given list of numbers is lucky. A lucky list contains\n",
        "    at least one number divisible by 7.\n",
        "    \"\"\"\n",
        "    ### START CODE HERE ###\n",
        "    return len(list(filter(lambda x: (x%7 == 0), nums))) > 0\n",
        "    ### END CODE HERE ###\n",
        "    pass"
      ]
    },
    {
      "cell_type": "markdown",
      "metadata": {
        "id": "hRPoBOVSvQtF"
      },
      "source": [
        "# 11.\n",
        "\n",
        ">Complete the body of the function below according to its docstring."
      ]
    },
    {
      "cell_type": "code",
      "execution_count": 29,
      "metadata": {
        "id": "WIPoLRXxvQtF",
        "colab": {
          "base_uri": "https://localhost:8080/"
        },
        "outputId": "172f35c2-6a0c-4c9b-9a45-a274542ec390"
      },
      "outputs": [
        {
          "output_type": "stream",
          "name": "stdout",
          "text": [
            "False\n"
          ]
        }
      ],
      "source": [
        "def menu_is_boring(meals):\n",
        "    \"\"\"Given a list of meals served over some period of time, return True if the\n",
        "    same meal has ever been served two days in a row, and False otherwise.\n",
        "    \"\"\"\n",
        "    ### START CODE HERE ###\n",
        "    return len([x for x in range(len(meals)-1) if meals[x] == meals[x+1]]) > 0\n",
        "    ### END CODE HERE ###\n",
        "    pass"
      ]
    },
    {
      "cell_type": "markdown",
      "metadata": {
        "id": "yxuYiXUJvQtG"
      },
      "source": [
        "# 12.\n",
        "\n",
        "> There is a saying that \"Data scientists spend 80% of their time cleaning data, and 20% of their time complaining about cleaning data.\" Let's see if you can write a function to help clean US zip code data. Given a string, it should return whether or not that string represents a valid zip code. For our purposes, a valid zip code is any string consisting of exactly 5 digits.\n",
        "\n",
        "HINT: `str` has a method that will be useful here. Use `help(str)` to review a list of string methods."
      ]
    },
    {
      "cell_type": "code",
      "execution_count": 32,
      "metadata": {
        "id": "tLm1VoEFvQtG",
        "colab": {
          "base_uri": "https://localhost:8080/"
        },
        "outputId": "69e25279-2b93-490d-cf6d-133839b7701f"
      },
      "outputs": [
        {
          "output_type": "stream",
          "name": "stdout",
          "text": [
            "False\n"
          ]
        }
      ],
      "source": [
        "def is_valid_zip(zip_code):\n",
        "    \"\"\"Returns whether the input string is a valid (5 digit) zip code\n",
        "    \"\"\"\n",
        "    ### START CODE HERE ###\n",
        "    return len(zip_code) == 5 and zip_code.isdigit()\n",
        "    ### END CODE HERE ###\n",
        "    pass"
      ]
    },
    {
      "cell_type": "markdown",
      "metadata": {
        "id": "_mVz_5DOvQtG"
      },
      "source": [
        "# 13.\n",
        ">Write a function my_max(x,y) that returns the maximum of x and y. \n",
        "\n",
        ">Do not use the max function, but use if instead in following two ways:\n",
        "\n",
        ">> (a) Use both if and else.\n",
        "\n",
        ">> (b) Use if but not else (nor elif)."
      ]
    },
    {
      "cell_type": "code",
      "execution_count": 35,
      "metadata": {
        "id": "H9vxfyyNvQtG",
        "colab": {
          "base_uri": "https://localhost:8080/"
        },
        "outputId": "f692169c-53b5-4e25-ccf1-94173d6eebd8"
      },
      "outputs": [
        {
          "output_type": "stream",
          "name": "stdout",
          "text": [
            "5\n"
          ]
        }
      ],
      "source": [
        "def my_max_a(x,y):\n",
        "    ### START CODE HERE ###\n",
        "    return x if x>y else y \n",
        "    ### END CODE HERE ###\n",
        "    pass"
      ]
    },
    {
      "cell_type": "code",
      "execution_count": 38,
      "metadata": {
        "id": "5JZTIYEjvQtH",
        "colab": {
          "base_uri": "https://localhost:8080/"
        },
        "outputId": "a678fd4c-8de3-47b6-c39b-adb284ac1b12"
      },
      "outputs": [
        {
          "output_type": "stream",
          "name": "stdout",
          "text": [
            "3\n"
          ]
        }
      ],
      "source": [
        "def my_max_b(x,y):\n",
        "    ### START CODE HERE ###\n",
        "    if x>y:\n",
        "      return x\n",
        "    return y\n",
        "    ### END CODE HERE ###\n",
        "    pass"
      ]
    },
    {
      "cell_type": "markdown",
      "metadata": {
        "id": "422SRW83vQtH"
      },
      "source": [
        "# 14.  \n",
        "\n",
        "> Let i,j = 1,...,n\n",
        "\n",
        ">>(a) Generate a list with elements [i,j].\n",
        "\n",
        ">>(b) Generate a list with elements [i,j] with i < j\n",
        "\n",
        ">>(c) Generate a list with elements i + j with both i and j prime and i > j\n",
        "\n",
        "Use List comprehensions"
      ]
    },
    {
      "cell_type": "code",
      "execution_count": 42,
      "metadata": {
        "id": "BMmQrscfvQtI",
        "colab": {
          "base_uri": "https://localhost:8080/"
        },
        "outputId": "216f1799-6cb3-48ca-e119-5aa9354a7275"
      },
      "outputs": [
        {
          "output_type": "stream",
          "name": "stdout",
          "text": [
            "[[1, 1], [1, 2], [1, 3], [2, 1], [2, 2], [2, 3], [3, 1], [3, 2], [3, 3]]\n",
            "[[1, 2], [1, 3], [2, 3]]\n",
            "[3, 4, 5]\n"
          ]
        }
      ],
      "source": [
        "# a)\n",
        "### START CODE HERE ###\n",
        "n=3\n",
        "list_a = [[i,j] for i in range(1,n+1) for j in range(1, n+1)]\n",
        "print(list_a)\n",
        "### END CODE HERE ###\n",
        "\n",
        "\n",
        "# b)\n",
        "### START CODE HERE ###\n",
        "list_b = [[i,j] for i in range(1,n+1) for j in range(1, n+1) if i<j]\n",
        "print(list_b)\n",
        "### END CODE HERE ###\n",
        "\n",
        "\n",
        "# c)\n",
        "### START CODE HERE ###\n",
        "list_c = [i+j for i in range(1,n+1) for j in range(1, n+1) if i<j]\n",
        "print(list_c)\n",
        "### END CODE HERE ###"
      ]
    },
    {
      "cell_type": "markdown",
      "metadata": {
        "id": "5SFwCPh3vQtI"
      },
      "source": [
        "# 15. \n",
        "\n",
        ">Complete the body of the function below according to its docstring."
      ]
    },
    {
      "cell_type": "code",
      "execution_count": 44,
      "metadata": {
        "id": "o8R9vxPivQtI",
        "colab": {
          "base_uri": "https://localhost:8080/"
        },
        "outputId": "babf2d06-ef3e-4d0f-a938-9d3bd63a46ac"
      },
      "outputs": [
        {
          "output_type": "stream",
          "name": "stdout",
          "text": [
            "[2002, 2009, 2016, 2023, 2037, 2044, 2051, 2058, 2072, 2079, 2086, 2093, 2107, 2114, 2121, 2128, 2142, 2149, 2156, 2163, 2177, 2184, 2191, 2198, 2212, 2219, 2226, 2233, 2247, 2254, 2261, 2268, 2282, 2289, 2296, 2303, 2317, 2324, 2331, 2338, 2352, 2359, 2366, 2373, 2387, 2394, 2401, 2408, 2422, 2429, 2436, 2443, 2457, 2464, 2471, 2478, 2492, 2499, 2506, 2513, 2527, 2534, 2541, 2548, 2562, 2569, 2576, 2583, 2597, 2604, 2611, 2618, 2632, 2639, 2646, 2653, 2667, 2674, 2681, 2688, 2702, 2709, 2716, 2723, 2737, 2744, 2751, 2758, 2772, 2779, 2786, 2793, 2807, 2814, 2821, 2828, 2842, 2849, 2856, 2863, 2877, 2884, 2891, 2898, 2912, 2919, 2926, 2933, 2947, 2954, 2961, 2968, 2982, 2989, 2996, 3003, 3017, 3024, 3031, 3038, 3052, 3059, 3066, 3073, 3087, 3094, 3101, 3108, 3122, 3129, 3136, 3143, 3157, 3164, 3171, 3178, 3192, 3199]\n"
          ]
        }
      ],
      "source": [
        "def my_func():\n",
        "    \"\"\"Write a function which will return a list contains all such numbers which are divisible by 7 but are not a multiple\n",
        "    of 5, between 2000 and 3200 (both included).\n",
        "    \"\"\"\n",
        "    ### START CODE HERE ###\n",
        "    return [x for x in range(2000,3200+1) if (x%7==0 and x%5!=0)]\n",
        "    ### END CODE HERE ###\n",
        "    pass"
      ]
    },
    {
      "cell_type": "markdown",
      "metadata": {
        "id": "1r5DGTgvvQtI"
      },
      "source": [
        "# 16.\n",
        "\n",
        ">Write a program that accepts a sentence and calculate the number of letters and digits.\n",
        "Suppose the following input is supplied to the program:\n",
        "\n",
        "        hello world! 123\n",
        ">Then, the output should be:\n",
        "\n",
        ">>LETTERS 10\n",
        "\n",
        ">>DIGITS 3"
      ]
    },
    {
      "cell_type": "code",
      "execution_count": 50,
      "metadata": {
        "id": "rPyCO_C5vQtJ",
        "colab": {
          "base_uri": "https://localhost:8080/"
        },
        "outputId": "679ccb3b-c00c-4891-ead1-40de0ef8c05a"
      },
      "outputs": [
        {
          "output_type": "stream",
          "name": "stdout",
          "text": [
            "Enter a sentence: hello world! 123\n",
            "LETTERS 10 \n",
            "DIGITS 3\n"
          ]
        }
      ],
      "source": [
        "### START CODE HERE ###\n",
        "\n",
        "string = input(\"Enter a sentence: \")\n",
        "\n",
        "letters = sum(c.isalpha() for c in string)\n",
        "digits = sum(c.isdigit() for c in string)\n",
        "print(f\"LETTERS {letters} \\nDIGITS {digits}\")\n",
        "\n",
        "### END CODE HERE ###"
      ]
    },
    {
      "cell_type": "markdown",
      "metadata": {
        "id": "D5aWNpvevQtJ"
      },
      "source": [
        "# 17.\n",
        "Write a function to sort a list of tuples (name, age, height) by ascending order\n",
        "where name is string, age and height are numbers. The sort\n",
        "criteria is:\n",
        "\n",
        "* 1: Sort based on name;\n",
        "* 2: Then sort based on age;\n",
        "* 3: Then sort by score.\n",
        "\n",
        "The priority is that name > age > score.\n",
        "If the following list is given as input to the function:\n",
        ">[('Taha',19,80), ('Farhad',20,90), ('Farrokh',17,91), ('Farrokh',17,93), ('Fatemeh',21,85)]\n",
        "\n",
        "Then, the output of the program should be:\n",
        ">[('Farhad', '20', '90'), ('Farrokh', '17', '91'), ('Farrokh', '17', '93'), ('Fatemeh', '21', '85'), ('Taha', '19', '80')]"
      ]
    },
    {
      "cell_type": "code",
      "execution_count": 52,
      "metadata": {
        "id": "sNs_JgdqvQtJ",
        "colab": {
          "base_uri": "https://localhost:8080/"
        },
        "outputId": "97a559a1-0f7f-4016-d239-873b3b8cd1b6"
      },
      "outputs": [
        {
          "output_type": "stream",
          "name": "stdout",
          "text": [
            "[('Farhad', 20, 90), ('Farrokh', 17, 91), ('Farrokh', 17, 93), ('Fatemeh', 21, 85), ('Taha', 19, 80)]\n"
          ]
        }
      ],
      "source": [
        "def sortTuple(inputList):\n",
        "    ### START CODE HERE ###\n",
        "    return sorted(inputList, key=lambda x: (x[0], x[1], x[2]))\n",
        "    ### END CODE HERE ###\n",
        "    pass"
      ]
    },
    {
      "cell_type": "markdown",
      "metadata": {
        "id": "6Nw0m6DjvQtJ"
      },
      "source": [
        "# 18. \n",
        "\n",
        "> What does the function below do? Which built-in function that we mentioned in the class has the same function? Rewrite the example using that function."
      ]
    },
    {
      "cell_type": "code",
      "execution_count": 54,
      "metadata": {
        "id": "AWGweOBjvQtK",
        "colab": {
          "base_uri": "https://localhost:8080/"
        },
        "outputId": "6f74047e-d01c-48dd-ff7d-274810f10539"
      },
      "outputs": [
        {
          "output_type": "stream",
          "name": "stdout",
          "text": [
            "[3, 2, 3]\n",
            "[3, 2, 3]\n"
          ]
        }
      ],
      "source": [
        "def MY_FUNC(func, collection):\n",
        "    output = []\n",
        "    for element in collection:\n",
        "        output += [func(element)]\n",
        "    return output\n",
        "\n",
        "# Example:\n",
        "print( MY_FUNC(max, [[1, 2, 3], [-1, 0, 2], (3, 0, 3)]) )\n",
        "\n",
        "### START CODE HERE ###\n",
        "def MY_FUNC_2(func, collection):\n",
        "  return list(map(func, collection))\n",
        "### END CODE HERE ###"
      ]
    },
    {
      "cell_type": "code",
      "source": [
        ""
      ],
      "metadata": {
        "id": "riQ0TZC0VCCL"
      },
      "execution_count": null,
      "outputs": []
    }
  ],
  "metadata": {
    "colab": {
      "collapsed_sections": [],
      "name": "HW1.ipynb",
      "provenance": []
    },
    "kernelspec": {
      "display_name": "Python 3",
      "language": "python",
      "name": "python3"
    },
    "language_info": {
      "codemirror_mode": {
        "name": "ipython",
        "version": 3
      },
      "file_extension": ".py",
      "mimetype": "text/x-python",
      "name": "python",
      "nbconvert_exporter": "python",
      "pygments_lexer": "ipython3",
      "version": "3.8.5"
    }
  },
  "nbformat": 4,
  "nbformat_minor": 0
}